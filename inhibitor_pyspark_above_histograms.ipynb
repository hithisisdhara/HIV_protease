{
 "cells": [
  {
   "cell_type": "code",
   "execution_count": 1,
   "metadata": {},
   "outputs": [],
   "source": [
    "#!/usr/bin/env python\n",
    "# coding: utf-8\n",
    "from __future__ import print_function\n",
    "from collections import defaultdict\n",
    "import pandas as pd\n",
    "import time\n",
    "import numpy as np\n",
    "import pyspark\n",
    "from utilities import *\n",
    "from scipy.stats import pearsonr"
   ]
  },
  {
   "cell_type": "code",
   "execution_count": 2,
   "metadata": {},
   "outputs": [],
   "source": [
    "sc = pyspark.SparkContext()"
   ]
  },
  {
   "cell_type": "code",
   "execution_count": 20,
   "metadata": {},
   "outputs": [],
   "source": [
    "inh = 'ATV'\n",
    "vec_string = 'dist_vec'\n",
    "#vec_string = 'count_vec'"
   ]
  },
  {
   "cell_type": "code",
   "execution_count": 21,
   "metadata": {},
   "outputs": [],
   "source": [
    "sparkfilename = get_sparkfilename(inh,vec_string)"
   ]
  },
  {
   "cell_type": "code",
   "execution_count": 22,
   "metadata": {},
   "outputs": [],
   "source": [
    "header = 'path_id,inh_type,vec_type,root_mutation,path_length,path_type,fraction_above_inh_threshold,path_variance'.split(\",\")\n",
    "header = header[3:]"
   ]
  },
  {
   "cell_type": "code",
   "execution_count": 23,
   "metadata": {},
   "outputs": [
    {
     "name": "stdout",
     "output_type": "stream",
     "text": [
      "['root_mutation', 'path_length', 'path_type', 'fraction_above_inh_threshold', 'path_variance']\n"
     ]
    }
   ],
   "source": [
    "print(header)"
   ]
  },
  {
   "cell_type": "code",
   "execution_count": 24,
   "metadata": {},
   "outputs": [],
   "source": [
    "c = {n:i for i,n in enumerate(header)}"
   ]
  },
  {
   "cell_type": "code",
   "execution_count": 25,
   "metadata": {},
   "outputs": [
    {
     "name": "stdout",
     "output_type": "stream",
     "text": [
      "3674406\n"
     ]
    }
   ],
   "source": [
    "data = sc.textFile(sparkfilename).map(lambda x:x.split(\",\")[3:])\n",
    "print(data.count())"
   ]
  },
  {
   "cell_type": "code",
   "execution_count": 26,
   "metadata": {},
   "outputs": [],
   "source": [
    "type_frac_var = data.map(lambda x:(x[c['path_type']], x[c['fraction_above_inh_threshold']], x[c['path_variance']]))"
   ]
  },
  {
   "cell_type": "code",
   "execution_count": 27,
   "metadata": {},
   "outputs": [],
   "source": [
    "above_listfrac_listvar = type_frac_var.map(lambda x:(x[0],(float(x[1]),float(x[2])))).groupByKey().map(lambda x:(x[0],separate(list(x[1])))).filter(lambda x:x[0]=='above')"
   ]
  },
  {
   "cell_type": "code",
   "execution_count": 28,
   "metadata": {},
   "outputs": [],
   "source": [
    "viz_ = above_listfrac_listvar.collectAsMap()"
   ]
  },
  {
   "cell_type": "code",
   "execution_count": 29,
   "metadata": {},
   "outputs": [
    {
     "data": {
      "text/plain": [
       "dict_keys(['above'])"
      ]
     },
     "execution_count": 29,
     "metadata": {},
     "output_type": "execute_result"
    }
   ],
   "source": [
    "viz_.keys()"
   ]
  },
  {
   "cell_type": "code",
   "execution_count": 30,
   "metadata": {},
   "outputs": [],
   "source": [
    "import matplotlib.pyplot as plt\n",
    "plt.rcParams['figure.figsize'] = 10, 10\n",
    "keys = ['above']"
   ]
  },
  {
   "cell_type": "code",
   "execution_count": 31,
   "metadata": {},
   "outputs": [],
   "source": [
    "plt.rcParams['figure.figsize'] = 10, 10"
   ]
  },
  {
   "cell_type": "code",
   "execution_count": 32,
   "metadata": {},
   "outputs": [
    {
     "data": {
      "image/png": "[encoded data removed]",
      "text/plain": [
       "<Figure size 720x720 with 1 Axes>"
      ]
     },
     "metadata": {
      "needs_background": "light"
     },
     "output_type": "display_data"
    }
   ],
   "source": [
    "if viz_:\n",
    "        above_frac, above_var = viz_[keys[0]]\n",
    "        total = len(above_var)\n",
    "        above_var = list(filter(lambda x:x<=100,above_var))\n",
    "        counts,bins = np.histogram(above_var,bins=10)\n",
    "        bins = [str(round(x,1)) for x in bins[1:]]\n",
    "        ypos = range(len(counts))\n",
    "        plt.bar(ypos,counts)\n",
    "        plt.xticks(ypos,bins,rotation=45)\n",
    "        plt.xlabel(\"Variance bin upperbound\",fontsize=15)\n",
    "        plt.ylabel(\"Counts\",fontsize=15)\n",
    "        #plt.title(\"histogram of \"+inh+\" \"+vec_string+\" shortest paths \"+keys[0]+\" threshold\",fontsize=20)"
   ]
  },
  {
   "cell_type": "code",
   "execution_count": 33,
   "metadata": {},
   "outputs": [
    {
     "data": {
      "text/plain": [
       "6.855058521725184"
      ]
     },
     "execution_count": 33,
     "metadata": {},
     "output_type": "execute_result"
    }
   ],
   "source": [
    "100 - len(above_var)*100.0/total"
   ]
  },
  {
   "cell_type": "code",
   "execution_count": null,
   "metadata": {},
   "outputs": [],
   "source": [
    "print(get_figfile(inh,vec_string,keys[-1]).split(\"/\")[-1])"
   ]
  },
  {
   "cell_type": "code",
   "execution_count": null,
   "metadata": {},
   "outputs": [],
   "source": [
    "list(zip(counts,bins))"
   ]
  },
  {
   "cell_type": "code",
   "execution_count": null,
   "metadata": {},
   "outputs": [],
   "source": []
  },
  {
   "cell_type": "code",
   "execution_count": null,
   "metadata": {},
   "outputs": [],
   "source": [
    "        counts,bins = np.histogram(filtered_var,bins=10)\n",
    "        bins = [str(round(x,1)) for x in bins[1:]]\n",
    "        ypos = range(len(counts))\n",
    "        plt.bar(ypos,counts)\n",
    "        plt.xticks(ypos,bins,rotation=90)\n",
    "        #plt.xlabel(\"Variance bin upperbound\",fontsize=15)\n",
    "        #plt.ylabel(\"Counts\",fontsize=15)\n",
    "        # plt.title(\"histogram of \"+inh+\" \"+vec_string+\" shortest paths \"+keys[0]+\" threshold\",fontsize=20)"
   ]
  },
  {
   "cell_type": "code",
   "execution_count": null,
   "metadata": {},
   "outputs": [],
   "source": []
  }
 ],
 "metadata": {
  "kernelspec": {
   "display_name": "Python 3",
   "language": "python",
   "name": "python3"
  },
  "language_info": {
   "codemirror_mode": {
    "name": "ipython",
    "version": 3
   },
   "file_extension": ".py",
   "mimetype": "text/x-python",
   "name": "python",
   "nbconvert_exporter": "python",
   "pygments_lexer": "ipython3",
   "version": "3.7.3"
  }
 },
 "nbformat": 4,
 "nbformat_minor": 2
}
