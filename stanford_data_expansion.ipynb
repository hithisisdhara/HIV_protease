{
 "cells": [
  {
   "cell_type": "code",
   "execution_count": 1,
   "metadata": {},
   "outputs": [],
   "source": [
    "import pandas as pd\n",
    "\n",
    "filename = 'PI_DataSet_6_2019.txt'\n",
    "f = open(filename)\n",
    "for line in f:\n",
    "    header = line.split()\n",
    "    start_ind = header.index('P1')\n",
    "    end_ind = header.index('P99')+1\n",
    "    header = header[:end_ind]\n",
    "    df = pd.DataFrame(columns = header)\n",
    "    break  \n",
    "cnt = 0\n",
    "for line in f:\n",
    "    l = line.split('\\t')[:end_ind]\n",
    "   \n",
    "    df.loc[cnt]=l\n",
    "    cnt += 1\n",
    "f.close()\n"
   ]
  },
  {
   "cell_type": "code",
   "execution_count": 2,
   "metadata": {},
   "outputs": [
    {
     "name": "stdout",
     "output_type": "stream",
     "text": [
      "SeqID is unique\n"
     ]
    }
   ],
   "source": [
    "print(\"SeqID is unique\")\n",
    "assert len(df['SeqID']) == len(set(df['SeqID']))"
   ]
  },
  {
   "cell_type": "code",
   "execution_count": 3,
   "metadata": {},
   "outputs": [],
   "source": [
    "def isfloat_or_na(num):\n",
    "    try:\n",
    "        a = float(num)\n",
    "        return True\n",
    "    except:\n",
    "        if num == 'NA':\n",
    "            return True\n",
    "        return False\n",
    "inhib_start = 1"
   ]
  },
  {
   "cell_type": "code",
   "execution_count": 4,
   "metadata": {},
   "outputs": [
    {
     "name": "stdout",
     "output_type": "stream",
     "text": [
      "The inhibitors are either NA or a float\n"
     ]
    }
   ],
   "source": [
    "print(\"The inhibitors are either NA or a float\")\n",
    "for inh in header[inhib_start:start_ind]:\n",
    "    assert filter(lambda x: not isfloat_or_na(x),df[inh] )==[]"
   ]
  },
  {
   "cell_type": "code",
   "execution_count": 5,
   "metadata": {},
   "outputs": [
    {
     "data": {
      "text/plain": [
       "'\\ntest_subjects = [\\'A\\',\\'B\\',\\'A*\\',\"-\",\"ACDEF\"]\\nfor t in test_subjects:\\n    print(t,is_only_aa(t))\\n'"
      ]
     },
     "execution_count": 5,
     "metadata": {},
     "output_type": "execute_result"
    }
   ],
   "source": [
    "import re\n",
    "# amino_acids = 'ACDEFGHIKLMNPQRSTVWY'\n",
    "def is_only_aa(strg, search = re.compile(r'[^ACDEFGHIKLMNPQRSTVWY]').search):\n",
    "    return not bool(search(strg))\n",
    "'''\n",
    "test_subjects = ['A','B','A*',\"-\",\"ACDEF\"]\n",
    "for t in test_subjects:\n",
    "    print(t,is_only_aa(t))\n",
    "'''"
   ]
  },
  {
   "cell_type": "raw",
   "metadata": {},
   "source": [
    "odds = set()\n",
    "for pi in header[start_ind:]:\n",
    "    odds.update(filter(lambda x:not is_only_aa(x), set(df[pi])))"
   ]
  },
  {
   "cell_type": "raw",
   "metadata": {},
   "source": [
    "print odds"
   ]
  },
  {
   "cell_type": "code",
   "execution_count": 8,
   "metadata": {},
   "outputs": [],
   "source": [
    "letters = list(\"PQITLWQRPLVTIKIGGQLKEALLDTGADDTVLEEMNLPGRWKPKMIGGIGGFIKVRQYDQILIEICGHKAIGTVLVGPTPVNIIGRNLLTQIGCTLNF\")"
   ]
  },
  {
   "cell_type": "code",
   "execution_count": 9,
   "metadata": {},
   "outputs": [
    {
     "name": "stdout",
     "output_type": "stream",
     "text": [
      "Take * out, substitute -, . and X with the letters\n"
     ]
    }
   ],
   "source": [
    "print (\"Take * out, substitute -, . and X with the letters\")"
   ]
  },
  {
   "cell_type": "code",
   "execution_count": 10,
   "metadata": {},
   "outputs": [],
   "source": [
    "for i,name in enumerate(header[start_ind:]):\n",
    "    #print filter(lambda x:not is_only_aa(x), set(df[name]))\n",
    "    df[name] = df[name].replace(\"X\",\"-\").replace(\".\",\"-\").str.replace(\"*\",\"\").replace(\"-\",letters[i])\n",
    "    # print filter(lambda x:not is_only_aa(x), set(df[name]))"
   ]
  },
  {
   "cell_type": "code",
   "execution_count": 11,
   "metadata": {},
   "outputs": [],
   "source": [
    "odds = set()\n",
    "for pi in header[start_ind:]:\n",
    "    odds.update(filter(lambda x:not is_only_aa(x), set(df[pi])))\n",
    "    #print filter(lambda x:not is_only_aa(x), set(df[pi]))\n",
    "assert odds == set()"
   ]
  },
  {
   "cell_type": "code",
   "execution_count": 12,
   "metadata": {},
   "outputs": [],
   "source": [
    "def combs(los, ci):\n",
    "    if ci == len(los)-1:\n",
    "        return list(los[-1])\n",
    "    else:\n",
    "        prev_results = combs(los,ci+1)\n",
    "        return [l+r for r in prev_results for l in los[ci]]"
   ]
  },
  {
   "cell_type": "code",
   "execution_count": 13,
   "metadata": {},
   "outputs": [],
   "source": [
    "expanded_data = []\n",
    "prev_count = 0\n",
    "\n",
    "for ind,d in enumerate(df.values.tolist()):\n",
    "    inds = [i for i in range(start_ind,end_ind) if len(d[i])>1]\n",
    "    if inds:\n",
    "        los = [d[i] for i in inds]\n",
    "        changes = combs(los,0)\n",
    "        #print los, changes\n",
    "        for c in changes:\n",
    "            c = list(c)\n",
    "            for j,k in enumerate(inds):\n",
    "                if c[j]==\"\":\n",
    "                    print d\n",
    "                    break\n",
    "                d[k] = c[j]\n",
    "            expanded_data.append(tuple(d))\n",
    "            # token =  (\",\".join(d))+\"\\n\"\n",
    "            # f.write(token)\n",
    "            prev_count += 1\n",
    "    else:\n",
    "        #token =  (\",\".join(d))+\"\\n\"\n",
    "        #f.write(token)\n",
    "        expanded_data.append(tuple(d))\n",
    "        prev_count += 1"
   ]
  },
  {
   "cell_type": "code",
   "execution_count": 14,
   "metadata": {},
   "outputs": [],
   "source": [
    "P = [[] for _ in range(99)]\n",
    "for d in expanded_data:\n",
    "    for i in range(start_ind,end_ind):\n",
    "        \n",
    "        P[i - start_ind].append(d[i])"
   ]
  },
  {
   "cell_type": "code",
   "execution_count": 15,
   "metadata": {},
   "outputs": [],
   "source": [
    "assert len(P[0]) == prev_count"
   ]
  },
  {
   "cell_type": "code",
   "execution_count": 16,
   "metadata": {},
   "outputs": [],
   "source": [
    "all_symbs = set()\n",
    "for i in range(99):\n",
    "    all_symbs.update(P[i])\n",
    "amino_acids = 'ACDEFGHIKLMNPQRSTVWY'\n",
    "assert (all_symbs - set(amino_acids)) == set()"
   ]
  },
  {
   "cell_type": "code",
   "execution_count": 18,
   "metadata": {},
   "outputs": [],
   "source": [
    "del P"
   ]
  },
  {
   "cell_type": "code",
   "execution_count": 19,
   "metadata": {},
   "outputs": [],
   "source": [
    "# sdearch for duplicates \n",
    "from collections import defaultdict\n",
    "seqs_occ = defaultdict(int)\n",
    "seqs_ids = defaultdict(set)\n",
    "for seq in expanded_data:\n",
    "    s = ''.join(seq[start_ind:])\n",
    "    seqs_occ[s] += 1\n",
    "    seqs_ids[s].add(str(seq[0]))\n",
    "    # print seqs_ids\n",
    "    # break\n",
    "assert all(seqs_occ[seq] == len(seqs_ids[seq]) for seq in seqs_ids.keys())"
   ]
  },
  {
   "cell_type": "code",
   "execution_count": 20,
   "metadata": {},
   "outputs": [],
   "source": [
    "del seqs_occ, seqs_ids"
   ]
  },
  {
   "cell_type": "code",
   "execution_count": 22,
   "metadata": {},
   "outputs": [],
   "source": [
    "def as_csv(l):\n",
    "    return (\"\\t\".join(l))+\"\\n\""
   ]
  },
  {
   "cell_type": "code",
   "execution_count": 23,
   "metadata": {},
   "outputs": [
    {
     "name": "stdout",
     "output_type": "stream",
     "text": [
      "414009\n"
     ]
    }
   ],
   "source": [
    "newname = \"PI_DataSet_6_19_expanded.txt\"\n",
    "f = open(newname,\"w\")\n",
    "f.write(as_csv(header))\n",
    "count = 0\n",
    "for d in expanded_data:\n",
    "    t = as_csv(d)\n",
    "    f.write(as_csv(d))\n",
    "    count += 1\n",
    "print count"
   ]
  }
 ],
 "metadata": {
  "kernelspec": {
   "display_name": "Python 3",
   "language": "python",
   "name": "python3"
  },
  "language_info": {
   "codemirror_mode": {
    "name": "ipython",
    "version": 3
   },
   "file_extension": ".py",
   "mimetype": "text/x-python",
   "name": "python",
   "nbconvert_exporter": "python",
   "pygments_lexer": "ipython3",
   "version": "3.7.3"
  }
 },
 "nbformat": 4,
 "nbformat_minor": 2
}
