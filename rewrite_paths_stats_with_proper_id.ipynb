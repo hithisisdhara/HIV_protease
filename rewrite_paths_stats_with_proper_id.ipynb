{
 "cells": [
  {
   "cell_type": "code",
   "execution_count": null,
   "metadata": {},
   "outputs": [],
   "source": [
    "#!/usr/bin/env python\n",
    "# coding: utf-8\n",
    "from __future__ import print_function\n",
    "from collections import defaultdict\n",
    "import pandas as pd\n",
    "import time\n",
    "import numpy as np\n",
    "from utilities import *\n",
    "from scipy.stats import pearsonr"
   ]
  },
  {
   "cell_type": "code",
   "execution_count": null,
   "metadata": {},
   "outputs": [],
   "source": [
    "inh = 'ATV'\n",
    "#vec_string = 'dist_vec'\n",
    "vec_string = 'count_vec'\n",
    "writefilestr = \"_\".join([inh,get_vecname(vec_string),\"split_\"])\n",
    "writefilestr"
   ]
  },
  {
   "cell_type": "code",
   "execution_count": null,
   "metadata": {},
   "outputs": [],
   "source": [
    "for splitnum in range(10):\n",
    "    readfilecounter = 0 \n",
    "    spfile = get_shortest_paths_file(splitnum,inh,vec_string)\n",
    "    sp = open(spfile)\n",
    "    path_id = -1\n",
    "    folder = \"/\".join(spfile.split(\"/\")[:-1])+\"/\"\n",
    "    writefile = folder+writefilestr+str(splitnum)+\"_shortestpaths_with_ids.txt\"\n",
    "    w = open(writefile,'w')\n",
    "    idstr = writefilestr+str(splitnum)+\"_\"\n",
    "    for line in sp:\n",
    "        if 'mutation' in line:\n",
    "            w.write(line)\n",
    "        else:\n",
    "            path_id += 1\n",
    "            id = idstr+str(path_id)\n",
    "            w.write(id+\"\\t\"+line)\n",
    "    w.close()\n",
    "            "
   ]
  },
  {
   "cell_type": "code",
   "execution_count": null,
   "metadata": {},
   "outputs": [],
   "source": [
    "header = 'path_id,inh_type,vec_type,root_mutation,path_length,path_type,fraction_above_inh_threshold,path_variance'.split(\",\")"
   ]
  },
  {
   "cell_type": "code",
   "execution_count": null,
   "metadata": {},
   "outputs": [],
   "source": [
    "c = {v:i for i,v in enumerate(header)}"
   ]
  },
  {
   "cell_type": "code",
   "execution_count": null,
   "metadata": {},
   "outputs": [],
   "source": [
    "#header = [header[c['path_id']],header[c['path_type']]]"
   ]
  },
  {
   "cell_type": "code",
   "execution_count": null,
   "metadata": {},
   "outputs": [],
   "source": [
    "id_var_frac_spikes = sc.textFile(sparkfilename).map(lambda x:x.split(\",\")).filter(lambda x:x[c['path_type']]=='spikes').map(lambda x:[x[c['path_id']],float(x[c['path_variance']]),float(x[c['fraction_above_inh_threshold']])])\n",
    "print(id_var_frac_spikes.count())"
   ]
  },
  {
   "cell_type": "code",
   "execution_count": null,
   "metadata": {},
   "outputs": [],
   "source": [
    "id_var_frac_from_image = id_var_frac_spikes.filter(lambda x: x[1] > 100 and x[2]>0.55)\n",
    "print(id_var_frac_from_image.count())"
   ]
  },
  {
   "cell_type": "code",
   "execution_count": null,
   "metadata": {},
   "outputs": [],
   "source": [
    "path_ids = id_var_frac_from_image.map(lambda x:(int(x[0]),1)).collectAsMap()"
   ]
  },
  {
   "cell_type": "code",
   "execution_count": null,
   "metadata": {},
   "outputs": [],
   "source": [
    "len(path_ids), max(path_ids.keys())"
   ]
  },
  {
   "cell_type": "code",
   "execution_count": null,
   "metadata": {},
   "outputs": [],
   "source": [
    "4172915"
   ]
  },
  {
   "cell_type": "code",
   "execution_count": null,
   "metadata": {},
   "outputs": [],
   "source": [
    "paths = []\n",
    "count = 0\n",
    "for i in range(10):\n",
    "    splitfile = \n",
    "    \n",
    "    sp=open(spfile)\n",
    "    next(sp)\n",
    "    for path in sp:\n",
    "        count += 1\n",
    "        if path_ids.get(count,-1)==1:\n",
    "            paths.append(process_line(path))\n",
    "    sp.close()"
   ]
  },
  {
   "cell_type": "code",
   "execution_count": null,
   "metadata": {},
   "outputs": [],
   "source": [
    "path_ind = {p:i for i,p in enumerate(paths)}"
   ]
  },
  {
   "cell_type": "code",
   "execution_count": null,
   "metadata": {},
   "outputs": [],
   "source": [
    "paths[-1]"
   ]
  },
  {
   "cell_type": "code",
   "execution_count": null,
   "metadata": {},
   "outputs": [],
   "source": [
    "'17408,25600,25601,25859,91171,91299,91267,25731,25734,91270,108678,100487,34983,43173,43221,43478,109014,108756,108752,43248,35024,17616,17488,17522,25712,25936,91473,91985,91969,26465,43873,35683,101187,83779,84803,93027,93011,91987,92115,26579,26355,18163,18133,18085,35493,35461,101031,100999,109447,109319,109095,35367,35590,18182,17670,17413,17429,13333,13590,13622,13623,21815,87093,87077,87334,88358,14630,14758,88486,80039,79015,87463,87479,87446,21652,21687,21682,79027,13714,13456,13457,13489,30897,30881,31104,31616,97152,97156,96933,79525,13988,14036,22260,22228,22482,21970,87506,87539,87537,22000,21968,22480,22496,14272,31680,30656,30660,96197,96231,95975,96999,97015,97239,105430,105414,104902,104678,96454,96455,79047,21734,13543,14567,22757,23014,88292,80068,80069,79045,13508,13524,13780,13652,13648,14672,14676,14668,14620,14616,31000,31001,31129,96665,96633,97145,97179,79771,87705,87704,87576,22040,13849,14107,14075,15099,88827,88859,88601,88605,88604,88828,80637,15100,15096,113400,180036,180020,179964,179966,180094,180124,181180,180668,180700,180716,180708,180680,179624,179470,179468,1603,356606,355582,347389,351741,400893,400889,402954,400634,396538,363770,363777,371970,376070,376198,372102,372350,364158,364030,364038,347654,347394,286662,286638,286650,285114,285138,297426,303574,303550,304318,304306,304302,304494,307374,309102,308190,302046,302242,302218,302230,302038,302043,289755,288219,288387,288239,288191,288167,287975,287783,287771,284891,297179,297035,297031,300055,297367,285079,285847,285849,286045,290461,287581,287585,299873,302561,302417,300881,298005,298013,285725,285917,285941,288965,288985,290713,183070,183094,189430,190198,190182,189950,183422,184014,184110,183534,183758,183662,183666,183668,185020,185212,184996,185388,185580,184044,182892,183276,184810,184826,184602,184594,183058,186130,186128,186224,185848,187000,188152,188128,194272,194271,194495,194497,194505,194889,191817,191625,191623,191615,190081,188929,190669,191061,191065,190681,193753,193537,193441,193629,190557,190373,190749,189405,189181,183037,182861,182865,182657,182729,184645,190789,189253,189445,189541,189557,192629,192413,192037,185893,182821,183005,183009,184361,184362,184554,190698,189162,189154,190686,189150,189534,189354,191096,184952,188024,188023,187927,187925,187917,186385,187729,187731,184659,184660,184284,182748,184280,184664,183128'"
   ]
  },
  {
   "cell_type": "code",
   "execution_count": null,
   "metadata": {},
   "outputs": [],
   "source": [
    "spfile"
   ]
  },
  {
   "cell_type": "code",
   "execution_count": null,
   "metadata": {},
   "outputs": [],
   "source": [
    "len(paths)"
   ]
  },
  {
   "cell_type": "code",
   "execution_count": null,
   "metadata": {},
   "outputs": [],
   "source": [
    "f = open(tmp)\n",
    "next(f)\n",
    "next(f)"
   ]
  },
  {
   "cell_type": "markdown",
   "metadata": {},
   "source": [
    "### Varify what we need is still there "
   ]
  }
 ],
 "metadata": {
  "kernelspec": {
   "display_name": "Python 2",
   "language": "python",
   "name": "python2"
  },
  "language_info": {
   "codemirror_mode": {
    "name": "ipython",
    "version": 2
   },
   "file_extension": ".py",
   "mimetype": "text/x-python",
   "name": "python",
   "nbconvert_exporter": "python",
   "pygments_lexer": "ipython2",
   "version": "2.7.16"
  }
 },
 "nbformat": 4,
 "nbformat_minor": 2
}
