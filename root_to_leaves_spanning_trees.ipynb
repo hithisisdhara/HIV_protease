{
 "cells": [
  {
   "cell_type": "code",
   "execution_count": 1,
   "metadata": {},
   "outputs": [],
   "source": [
    "ip = 'FPV'\n",
    "num_nbhrs = 100\n",
    "percent = 0.1\n",
    "fstring = \"_\".join([ip,str(percent*100)+\"percent\",str(num_nbhrs-1)+\"nn\",\"mst\"])\n",
    "nodefile = \"_\".join([fstring,\"nodes\"])+\".csv\"\n",
    "edgefile = \"_\".join([fstring,\"edges\"])+\".csv\"\n",
    "vectorfile = \"_\".join([fstring,\"vectors\"])+\".csv\""
   ]
  },
  {
   "cell_type": "code",
   "execution_count": 2,
   "metadata": {},
   "outputs": [],
   "source": [
    "letters = list(\"PQITLWQRPLVTIKIGGQLKEALLDTGADDTVLEEMNLPGRWKPKMIGGIGGFIKVRQYDQILIEICGHKAIGTVLVGPTPVNIIGRNLLTQIGCTLNF\")"
   ]
  },
  {
   "cell_type": "code",
   "execution_count": 3,
   "metadata": {},
   "outputs": [],
   "source": [
    "# get the connected component out of the cspanning tree \n",
    "f = open(edgefile)\n",
    "for line in f:\n",
    "    break\n",
    "all_edges = []\n",
    "for line in f:\n",
    "    e = [int(x) for x in line.strip().split(\",\")]\n",
    "    all_edges.append(e)\n",
    "f.close()"
   ]
  },
  {
   "cell_type": "code",
   "execution_count": 4,
   "metadata": {},
   "outputs": [],
   "source": [
    "import networkx as nx\n",
    "def extract_biggest_connected_mst(edges):\n",
    "    G = nx.Graph()\n",
    "    G.add_edges_from(edges)\n",
    "    for c in nx.connected_components(G):\n",
    "        break\n",
    "    filtered_edges = list(filter(lambda x:x[0] in c and x[1] in c,edges))\n",
    "    return sorted(c),filtered_edges\n",
    "nodes, edges = extract_biggest_connected_mst(all_edges)"
   ]
  },
  {
   "cell_type": "code",
   "execution_count": 5,
   "metadata": {},
   "outputs": [],
   "source": [
    "def is_equal(a,b):\n",
    "    return all(map(lambda x:x[0]==x[1], zip(a,b)))"
   ]
  },
  {
   "cell_type": "code",
   "execution_count": 6,
   "metadata": {},
   "outputs": [],
   "source": [
    "# sainity check, the index of vectors vs the index of the sequences\n",
    "f = open('PI_DataSet_6_19_PI_avg_dist_vec_210.txt')\n",
    "g = open('PI_DataSet_6_19_expanded.txt')\n",
    "for line in g:\n",
    "    header = line.split(\"\\t\")\n",
    "    end = header. index(\"P1\")\n",
    "    break\n",
    "count = 0 \n",
    "for line in g:\n",
    "    front1 = line.split(\"\\t\")[:end]\n",
    "    fline = next(f)\n",
    "    front2 = fline.split(\"\\t\")[:end]\n",
    "    assert front1 == front2\n",
    "    count += 1\n",
    "f.close()\n",
    "g.close()"
   ]
  },
  {
   "cell_type": "code",
   "execution_count": 7,
   "metadata": {},
   "outputs": [
    {
     "name": "stdout",
     "output_type": "stream",
     "text": [
      "\n",
      "\n"
     ]
    }
   ],
   "source": [
    "# filter vectors only corresponsing to node_indices. \n",
    "node_vectors = []\n",
    "node_ptr = 0\n",
    "sainity = []\n",
    "file_ptr = -1\n",
    "f = open(vectorfile)\n",
    "for line in f:\n",
    "    assert line == '\\n'\n",
    "    print line\n",
    "    break # account for the blank line\n",
    "for line in f:\n",
    "    file_ptr += 1\n",
    "    if node_ptr < len(nodes) and file_ptr == nodes[node_ptr]:\n",
    "        node_vectors.append(line)\n",
    "        # sainity.append(count)\n",
    "        node_ptr += 1\n",
    "assert is_equal(sainity, nodes) == True\n",
    "del sainity\n",
    "f.close()\n",
    "assert len(node_vectors) == len(nodes)"
   ]
  },
  {
   "cell_type": "code",
   "execution_count": 8,
   "metadata": {},
   "outputs": [],
   "source": [
    "# get the header\n",
    "h = open('PI_DataSet_6_19_expanded.txt')\n",
    "for line in h:\n",
    "    header = line.split(\"\\t\")\n",
    "    end = header.index(\"P1\")\n",
    "    inh_ind = header.index(ip)\n",
    "    break\n",
    "h.close()"
   ]
  },
  {
   "cell_type": "code",
   "execution_count": 9,
   "metadata": {},
   "outputs": [],
   "source": [
    "# we need to patch sequences with vectors. So, first get its inds from the bigger file\n",
    "g = open('PI_DataSet_6_19_PI_avg_dist_vec_210.txt')\n",
    "f = enumerate(node_vectors)\n",
    "seq_indices = []\n",
    "inh_values = []\n",
    "count = -1\n",
    "vec_count = 1\n",
    "vvec = next(f)[1].strip().split(\",\")\n",
    "for line in g:\n",
    "    line = line.strip().split(\"\\t\")\n",
    "    vec = line[end:]\n",
    "    count += 1\n",
    "    if vec[0]==vvec[0] and vec[1]==vvec[1]:\n",
    "        if is_equal(vec, vvec):\n",
    "            seq_indices.append(count)\n",
    "            inh_values.append(float(line[inh_ind]))\n",
    "            try:\n",
    "                vvec = next(f)[1].strip().split(\",\")\n",
    "                vec_count += 1\n",
    "            except:\n",
    "                break\n",
    "assert len(seq_indices)==vec_count\n",
    "assert vec_count == len(node_vectors)\n",
    "assert vec_count == len(nodes)\n",
    "g.close()"
   ]
  },
  {
   "cell_type": "code",
   "execution_count": 10,
   "metadata": {},
   "outputs": [],
   "source": [
    "# patch sequences with nodes\n",
    "h = open('PI_DataSet_6_19_expanded.txt')\n",
    "for line in h:\n",
    "    break # for header \n",
    "file_ctr = -1\n",
    "seqs = []\n",
    "pointer = 0\n",
    "for line in h:\n",
    "    file_ctr += 1\n",
    "    if pointer < len(seq_indices) and file_ctr == seq_indices[pointer]:\n",
    "        seq = line.strip().split(\"\\t\")[end:]\n",
    "        seqs.append(seq)\n",
    "        pointer += 1\n",
    "h.close()\n",
    "assert len(seqs)==vec_count"
   ]
  },
  {
   "cell_type": "code",
   "execution_count": 11,
   "metadata": {},
   "outputs": [],
   "source": [
    "# here, we have zip(nodes, node_vectors, seqs, inh_values) as node features and edges on node_inds"
   ]
  },
  {
   "cell_type": "code",
   "execution_count": 12,
   "metadata": {},
   "outputs": [],
   "source": [
    "def count_difference(a,b):\n",
    "    return sum([int(x[0]!=x[1]) for x in zip(a,b)])"
   ]
  },
  {
   "cell_type": "code",
   "execution_count": 14,
   "metadata": {},
   "outputs": [],
   "source": [
    "from collections import defaultdict\n",
    "difference_index = defaultdict(list)\n",
    "for i,ind in enumerate(nodes):\n",
    "    seq = seqs[i]\n",
    "    diff = count_difference(seq,letters)\n",
    "    difference_index[diff].append(ind)"
   ]
  },
  {
   "cell_type": "code",
   "execution_count": 15,
   "metadata": {},
   "outputs": [],
   "source": [
    "root = None\n",
    "for i in range(30):\n",
    "    if len(difference_index[i])!=0:\n",
    "        root = difference_index[i][0]\n",
    "        break"
   ]
  },
  {
   "cell_type": "code",
   "execution_count": 16,
   "metadata": {},
   "outputs": [],
   "source": [
    "tree = nx.Graph()\n",
    "tree.add_edges_from(edges)"
   ]
  },
  {
   "cell_type": "code",
   "execution_count": 17,
   "metadata": {},
   "outputs": [],
   "source": [
    "assert root in tree.nodes"
   ]
  },
  {
   "cell_type": "code",
   "execution_count": 18,
   "metadata": {},
   "outputs": [],
   "source": [
    "leaves = [i for  i in nodes if tree.degree(i)==1]"
   ]
  },
  {
   "cell_type": "code",
   "execution_count": 19,
   "metadata": {},
   "outputs": [
    {
     "data": {
      "text/plain": [
       "12697"
      ]
     },
     "execution_count": 19,
     "metadata": {},
     "output_type": "execute_result"
    }
   ],
   "source": [
    "len(leaves)"
   ]
  },
  {
   "cell_type": "code",
   "execution_count": 20,
   "metadata": {},
   "outputs": [],
   "source": [
    "node_inds = {node:i for i,node in enumerate(nodes)}"
   ]
  },
  {
   "cell_type": "code",
   "execution_count": 21,
   "metadata": {},
   "outputs": [],
   "source": [
    "# filter the leaf nodes with resistance greater than 3\n",
    "high_inh_leaves = filter(lambda x:inh_values[node_inds[x]]>=3,leaves)"
   ]
  },
  {
   "cell_type": "code",
   "execution_count": 22,
   "metadata": {},
   "outputs": [
    {
     "data": {
      "text/plain": [
       "8062"
      ]
     },
     "execution_count": 22,
     "metadata": {},
     "output_type": "execute_result"
    }
   ],
   "source": [
    "len(high_inh_leaves)"
   ]
  },
  {
   "cell_type": "code",
   "execution_count": 23,
   "metadata": {},
   "outputs": [
    {
     "data": {
      "text/plain": [
       "0.5"
      ]
     },
     "execution_count": 23,
     "metadata": {},
     "output_type": "execute_result"
    }
   ],
   "source": [
    "inh_values[node_inds[root]]"
   ]
  },
  {
   "cell_type": "code",
   "execution_count": 24,
   "metadata": {},
   "outputs": [
    {
     "name": "stdout",
     "output_type": "stream",
     "text": [
      "3 1.0\n",
      "454 0.6\n",
      "1335 48.0\n",
      "1931 48.0\n",
      "21019 0.7\n",
      "27958 0.5\n",
      "31264 0.5\n"
     ]
    }
   ],
   "source": [
    "for ind in difference_index[1]:\n",
    "    print ind,inh_values[node_inds[ind]]"
   ]
  },
  {
   "cell_type": "code",
   "execution_count": 25,
   "metadata": {},
   "outputs": [
    {
     "data": {
      "text/plain": [
       "[5,\n",
       " 9,\n",
       " 11,\n",
       " 10,\n",
       " 10,\n",
       " 12,\n",
       " 9,\n",
       " 10,\n",
       " 9,\n",
       " 10,\n",
       " 11,\n",
       " 10,\n",
       " 9,\n",
       " 11,\n",
       " 11,\n",
       " 11,\n",
       " 12,\n",
       " 11,\n",
       " 12,\n",
       " 12,\n",
       " 13,\n",
       " 13,\n",
       " 13,\n",
       " 9]"
      ]
     },
     "execution_count": 25,
     "metadata": {},
     "output_type": "execute_result"
    }
   ],
   "source": [
    "mininh = min(inh_values)\n",
    "[count_difference(letters,seqs[i]) for i in range(len(node_inds)) if inh_values[i]==mininh]"
   ]
  },
  {
   "cell_type": "code",
   "execution_count": 58,
   "metadata": {},
   "outputs": [
    {
     "data": {
      "text/plain": [
       "[420,\n",
       " 20340,\n",
       " 20341,\n",
       " 20342,\n",
       " 20343,\n",
       " 20344,\n",
       " 20345,\n",
       " 20346,\n",
       " 20347,\n",
       " 20348,\n",
       " 20349,\n",
       " 20350,\n",
       " 20351,\n",
       " 20352,\n",
       " 20353,\n",
       " 20354,\n",
       " 20355,\n",
       " 20356,\n",
       " 20357,\n",
       " 20358,\n",
       " 20359,\n",
       " 20360,\n",
       " 20361,\n",
       " 31192]"
      ]
     },
     "execution_count": 58,
     "metadata": {},
     "output_type": "execute_result"
    }
   ],
   "source": [
    "[n for n in nodes if inh_values[node_inds[n]]==mininh]"
   ]
  },
  {
   "cell_type": "code",
   "execution_count": 27,
   "metadata": {},
   "outputs": [
    {
     "name": "stdout",
     "output_type": "stream",
     "text": [
      "0\n",
      "1000\n",
      "2000\n",
      "3000\n",
      "4000\n",
      "5000\n",
      "6000\n",
      "7000\n",
      "8000\n"
     ]
    }
   ],
   "source": [
    "# get the shortest path from root to high leaves\n",
    "shortest_paths = []\n",
    "for i,l in enumerate(high_inh_leaves):\n",
    "    p = nx.shortest_path(tree,root, l)\n",
    "    shortest_paths.append(p)\n",
    "    if i%1000 == 0:\n",
    "        print i "
   ]
  },
  {
   "cell_type": "code",
   "execution_count": 40,
   "metadata": {},
   "outputs": [],
   "source": [
    "def get_inh_for_path(p):\n",
    "    return [inh_values[node_inds[n]] for n in p]\n",
    "def get_mutation_for_path(p):\n",
    "    return [mutations[node_inds[n]] for n in p]"
   ]
  },
  {
   "cell_type": "code",
   "execution_count": 29,
   "metadata": {},
   "outputs": [],
   "source": [
    "shortest_paths_inhs = [get_inh_for_path(p) for p in shortest_paths]"
   ]
  },
  {
   "cell_type": "code",
   "execution_count": 39,
   "metadata": {},
   "outputs": [],
   "source": [
    "mutations = [count_difference(seq,letters) for seq in seqs]"
   ]
  },
  {
   "cell_type": "code",
   "execution_count": 41,
   "metadata": {},
   "outputs": [],
   "source": [
    "shortest_paths_mutations = [get_mutation_for_path(p) for p in shortest_paths]"
   ]
  },
  {
   "cell_type": "code",
   "execution_count": 34,
   "metadata": {},
   "outputs": [],
   "source": [
    "def is_monotone_increasing(s):\n",
    "    return all(map(lambda x:s[x]<=s[x+1],range(len(s)-1)))"
   ]
  },
  {
   "cell_type": "code",
   "execution_count": 42,
   "metadata": {},
   "outputs": [
    {
     "data": {
      "text/plain": [
       "1"
      ]
     },
     "execution_count": 42,
     "metadata": {},
     "output_type": "execute_result"
    }
   ],
   "source": [
    "sum(map(lambda s:int(is_monotone_increasing(s)),shortest_paths_mutations))"
   ]
  },
  {
   "cell_type": "code",
   "execution_count": 38,
   "metadata": {},
   "outputs": [
    {
     "data": {
      "text/plain": [
       "3"
      ]
     },
     "execution_count": 38,
     "metadata": {},
     "output_type": "execute_result"
    }
   ],
   "source": [
    "sum(map(lambda s:int(is_monotone_increasing(s)),shortest_paths_inhs))"
   ]
  },
  {
   "cell_type": "code",
   "execution_count": null,
   "metadata": {},
   "outputs": [],
   "source": [
    "# What is the correlation between higher mutation and higher inhibitance in general? "
   ]
  },
  {
   "cell_type": "raw",
   "metadata": {},
   "source": [
    "import numpy as np\n",
    "inh_values = np.asarray(inh_values)\n",
    "mutations = np.asarray([count_difference(seq,letters) for seq in seqs])"
   ]
  },
  {
   "cell_type": "code",
   "execution_count": 43,
   "metadata": {},
   "outputs": [],
   "source": [
    "import scipy.stats "
   ]
  },
  {
   "cell_type": "code",
   "execution_count": 44,
   "metadata": {},
   "outputs": [
    {
     "data": {
      "text/plain": [
       "(0.17706880905008163, 2.9203149658232873e-281)"
      ]
     },
     "execution_count": 44,
     "metadata": {},
     "output_type": "execute_result"
    }
   ],
   "source": [
    "scipy.stats.pearsonr(inh_values,mutations)"
   ]
  },
  {
   "cell_type": "code",
   "execution_count": 51,
   "metadata": {},
   "outputs": [
    {
     "data": {
      "text/plain": [
       "(0.16262035409303566, 5.686375812722127e-76)"
      ]
     },
     "execution_count": 51,
     "metadata": {},
     "output_type": "execute_result"
    }
   ],
   "source": [
    "import numpy as np\n",
    "tmp = [node_inds[l] for l in leaves]\n",
    "scipy.stats.pearsonr(np.asarray(inh_values)[tmp],np.asarray(mutations)[tmp])"
   ]
  },
  {
   "cell_type": "code",
   "execution_count": 53,
   "metadata": {},
   "outputs": [],
   "source": [
    "one_root = 27958 # this guy has a one mutation with inh = 0.5, lowest inh for "
   ]
  },
  {
   "cell_type": "code",
   "execution_count": 54,
   "metadata": {},
   "outputs": [
    {
     "name": "stdout",
     "output_type": "stream",
     "text": [
      "0\n",
      "1000\n",
      "2000\n",
      "3000\n",
      "4000\n",
      "5000\n",
      "6000\n",
      "7000\n",
      "8000\n"
     ]
    }
   ],
   "source": [
    "# Shortest paths between root and these leaves\n",
    "shortest_paths = []\n",
    "for i,l in enumerate(high_inh_leaves):\n",
    "    p = nx.shortest_path(tree,one_root, l)\n",
    "    shortest_paths.append(p)\n",
    "    if i%1000 == 0:\n",
    "        print i "
   ]
  },
  {
   "cell_type": "code",
   "execution_count": 55,
   "metadata": {},
   "outputs": [],
   "source": [
    "shortest_paths_inhs = [get_inh_for_path(p) for p in shortest_paths]\n",
    "shortest_paths_mutations = [get_mutation_for_path(p) for p in shortest_paths]"
   ]
  },
  {
   "cell_type": "code",
   "execution_count": 57,
   "metadata": {},
   "outputs": [
    {
     "name": "stdout",
     "output_type": "stream",
     "text": [
      "0\n",
      "3\n"
     ]
    }
   ],
   "source": [
    "print sum(map(lambda s:int(is_monotone_increasing(s)),shortest_paths_mutations))\n",
    "print sum(map(lambda s:int(is_monotone_increasing(s)),shortest_paths_inhs))"
   ]
  },
  {
   "cell_type": "code",
   "execution_count": 59,
   "metadata": {},
   "outputs": [
    {
     "name": "stdout",
     "output_type": "stream",
     "text": [
      "0\n",
      "1000\n",
      "2000\n",
      "3000\n",
      "4000\n",
      "5000\n",
      "6000\n",
      "7000\n",
      "8000\n",
      "1\n",
      "131\n"
     ]
    }
   ],
   "source": [
    "shortest_paths = []\n",
    "for i,l in enumerate(high_inh_leaves):\n",
    "    p = nx.shortest_path(tree,420, l)\n",
    "    shortest_paths.append(p)\n",
    "    if i%1000 == 0:\n",
    "        print i \n",
    "shortest_paths_inhs = [get_inh_for_path(p) for p in shortest_paths]\n",
    "shortest_paths_mutations = [get_mutation_for_path(p) for p in shortest_paths]\n",
    "print sum(map(lambda s:int(is_monotone_increasing(s)),shortest_paths_mutations))\n",
    "print sum(map(lambda s:int(is_monotone_increasing(s)),shortest_paths_inhs))"
   ]
  },
  {
   "cell_type": "raw",
   "metadata": {},
   "source": [
    "# each node has two values: sequence and inhibitor value\n",
    "nodes = []\n",
    "for node_ind in vec_inds:\n",
    "    nodes.append({'ind':node_ind, 'seq':seqs[node_ind], 'inh_val':inh_values[node_ind]})"
   ]
  },
  {
   "cell_type": "code",
   "execution_count": null,
   "metadata": {},
   "outputs": [],
   "source": [
    "max_ = max(map(lambda x: len(x[1]), difference_index.items()))"
   ]
  },
  {
   "cell_type": "code",
   "execution_count": null,
   "metadata": {},
   "outputs": [],
   "source": [
    "map(lambda x: x[0], filter(lambda x:len(x[1])==max_,difference_index.items()))"
   ]
  },
  {
   "cell_type": "code",
   "execution_count": null,
   "metadata": {},
   "outputs": [],
   "source": [
    "max(difference_index.keys())"
   ]
  },
  {
   "cell_type": "code",
   "execution_count": null,
   "metadata": {},
   "outputs": [],
   "source": [
    "nx.shortest_path(root,high_inh_leaves[0])"
   ]
  },
  {
   "cell_type": "code",
   "execution_count": null,
   "metadata": {},
   "outputs": [],
   "source": [
    "root in high_inh_leaves"
   ]
  },
  {
   "cell_type": "code",
   "execution_count": null,
   "metadata": {},
   "outputs": [],
   "source": []
  },
  {
   "cell_type": "code",
   "execution_count": null,
   "metadata": {},
   "outputs": [],
   "source": [
    "len(cnodes),len(cedges)"
   ]
  },
  {
   "cell_type": "code",
   "execution_count": null,
   "metadata": {},
   "outputs": [],
   "source": []
  },
  {
   "cell_type": "code",
   "execution_count": null,
   "metadata": {},
   "outputs": [],
   "source": []
  }
 ],
 "metadata": {
  "kernelspec": {
   "display_name": "Python 2",
   "language": "python",
   "name": "python2"
  },
  "language_info": {
   "codemirror_mode": {
    "name": "ipython",
    "version": 2
   },
   "file_extension": ".py",
   "mimetype": "text/x-python",
   "name": "python",
   "nbconvert_exporter": "python",
   "pygments_lexer": "ipython2",
   "version": "2.7.16"
  }
 },
 "nbformat": 4,
 "nbformat_minor": 2
}
