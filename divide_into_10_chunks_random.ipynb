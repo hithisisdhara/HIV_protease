{
 "cells": [
  {
   "cell_type": "code",
   "execution_count": 1,
   "metadata": {},
   "outputs": [],
   "source": [
    "expandedfile= 'PI_DataSet_6_19_all.txt'"
   ]
  },
  {
   "cell_type": "code",
   "execution_count": 2,
   "metadata": {},
   "outputs": [],
   "source": [
    "def count_lines(o):\n",
    "    c = 0\n",
    "    for line in o:\n",
    "        c += 1\n",
    "    o.close()\n",
    "    return c"
   ]
  },
  {
   "cell_type": "code",
   "execution_count": 3,
   "metadata": {},
   "outputs": [
    {
     "name": "stdout",
     "output_type": "stream",
     "text": [
      "414010\n"
     ]
    }
   ],
   "source": [
    "total_lines = count_lines(open(expandedfile))\n",
    "print(total_lines)"
   ]
  },
  {
   "cell_type": "code",
   "execution_count": 4,
   "metadata": {},
   "outputs": [],
   "source": [
    "e = open(expandedfile)\n",
    "header = next(e)"
   ]
  },
  {
   "cell_type": "code",
   "execution_count": 5,
   "metadata": {},
   "outputs": [
    {
     "name": "stdout",
     "output_type": "stream",
     "text": [
      "529\n"
     ]
    }
   ],
   "source": [
    "headerlength = len(header.split('\\t'))\n",
    "print(headerlength)"
   ]
  },
  {
   "cell_type": "code",
   "execution_count": 6,
   "metadata": {},
   "outputs": [],
   "source": [
    "percent_split = 10\n",
    "percent_lines = total_lines/percent_split"
   ]
  },
  {
   "cell_type": "code",
   "execution_count": 7,
   "metadata": {},
   "outputs": [],
   "source": [
    "path = '/home/dshah8/Documents/Summer19/Harrison/data_ten_chunks/'\n",
    "writefiles = [open(path+'PI_DataSet_6_19_random_split_'+str(i)+\".txt\",'w') for i in range(percent_split)]\n",
    "for wf in writefiles:\n",
    "    wf.write(header)"
   ]
  },
  {
   "cell_type": "code",
   "execution_count": 8,
   "metadata": {},
   "outputs": [],
   "source": [
    "import numpy.random as random\n",
    "count = 0\n",
    "for line_e in e:\n",
    "    count += 1\n",
    "    assert len(line_e.split('\\t')) == headerlength\n",
    "    ind = random.randint(0,percent_split)\n",
    "    ind == ind if ind < percent_split else ind-1 \n",
    "    f = writefiles[ind]\n",
    "    f.write(line_e)\n",
    "    #if count % ten_p == 0:\n",
    "        #print count"
   ]
  },
  {
   "cell_type": "code",
   "execution_count": 9,
   "metadata": {},
   "outputs": [],
   "source": [
    "for f in writefiles:\n",
    "    f.close()"
   ]
  },
  {
   "cell_type": "code",
   "execution_count": 10,
   "metadata": {},
   "outputs": [],
   "source": [
    "assert count+1 == total_lines"
   ]
  },
  {
   "cell_type": "code",
   "execution_count": 11,
   "metadata": {},
   "outputs": [
    {
     "data": {
      "text/plain": [
       "(414009, 414010)"
      ]
     },
     "execution_count": 11,
     "metadata": {},
     "output_type": "execute_result"
    }
   ],
   "source": [
    "count, total_lines"
   ]
  },
  {
   "cell_type": "code",
   "execution_count": 12,
   "metadata": {},
   "outputs": [],
   "source": [
    "def varify_lines(o):\n",
    "    c = 0\n",
    "    bad = 0\n",
    "    for line in o:\n",
    "        if line != '\\n':\n",
    "            try:\n",
    "                assert len(line.split(\"\\t\"))==headerlength\n",
    "                c += 1\n",
    "            except:\n",
    "                bad += 1\n",
    "    print c, bad\n",
    "    return c"
   ]
  },
  {
   "cell_type": "code",
   "execution_count": 13,
   "metadata": {},
   "outputs": [
    {
     "name": "stdout",
     "output_type": "stream",
     "text": [
      "41431 0\n",
      "/home/dshah8/Documents/Summer19/Harrison/data_ten_chunks/PI_DataSet_6_19_random_split_0.txt 41430\n",
      "41470 0\n",
      "/home/dshah8/Documents/Summer19/Harrison/data_ten_chunks/PI_DataSet_6_19_random_split_1.txt 41469\n",
      "41467 0\n",
      "/home/dshah8/Documents/Summer19/Harrison/data_ten_chunks/PI_DataSet_6_19_random_split_2.txt 41466\n",
      "41034 0\n",
      "/home/dshah8/Documents/Summer19/Harrison/data_ten_chunks/PI_DataSet_6_19_random_split_3.txt 41033\n",
      "41517 0\n",
      "/home/dshah8/Documents/Summer19/Harrison/data_ten_chunks/PI_DataSet_6_19_random_split_4.txt 41516\n",
      "41185 0\n",
      "/home/dshah8/Documents/Summer19/Harrison/data_ten_chunks/PI_DataSet_6_19_random_split_5.txt 41184\n",
      "41829 0\n",
      "/home/dshah8/Documents/Summer19/Harrison/data_ten_chunks/PI_DataSet_6_19_random_split_6.txt 41828\n",
      "41468 0\n",
      "/home/dshah8/Documents/Summer19/Harrison/data_ten_chunks/PI_DataSet_6_19_random_split_7.txt 41467\n",
      "41523 0\n",
      "/home/dshah8/Documents/Summer19/Harrison/data_ten_chunks/PI_DataSet_6_19_random_split_8.txt 41522\n",
      "41095 0\n",
      "/home/dshah8/Documents/Summer19/Harrison/data_ten_chunks/PI_DataSet_6_19_random_split_9.txt 41094\n",
      "414009\n"
     ]
    }
   ],
   "source": [
    "written_lines = 0\n",
    "for i in range(percent_split):\n",
    "    new_writename = path+'PI_DataSet_6_19_random_split_'+str(i)+\".txt\"\n",
    "    f = open(new_writename)\n",
    "    num_lines = varify_lines(f) - 1\n",
    "    written_lines += num_lines # remove header\n",
    "    print new_writename, num_lines\n",
    "    f.close()\n",
    "print written_lines"
   ]
  },
  {
   "cell_type": "code",
   "execution_count": 14,
   "metadata": {},
   "outputs": [],
   "source": [
    "assert written_lines == count"
   ]
  }
 ],
 "metadata": {
  "kernelspec": {
   "display_name": "Python 2",
   "language": "python",
   "name": "python2"
  },
  "language_info": {
   "codemirror_mode": {
    "name": "ipython",
    "version": 2
   },
   "file_extension": ".py",
   "mimetype": "text/x-python",
   "name": "python",
   "nbconvert_exporter": "python",
   "pygments_lexer": "ipython2",
   "version": "2.7.16"
  }
 },
 "nbformat": 4,
 "nbformat_minor": 2
}
