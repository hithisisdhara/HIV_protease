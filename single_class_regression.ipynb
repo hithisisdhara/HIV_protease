{
 "cells": [
  {
   "cell_type": "code",
   "execution_count": null,
   "metadata": {},
   "outputs": [],
   "source": [
    "# read the data \n",
    "import numpy as np\n",
    "import matplotlib.pyplot as plt \n",
    "plt.rcParams['figure.figsize'] = 10, 10\n",
    "from utilities import *\n",
    "import math\n",
    "from sklearn.model_selection import train_test_split\n",
    "import pandas as pd\n",
    "from itertools import combinations"
   ]
  },
  {
   "cell_type": "code",
   "execution_count": null,
   "metadata": {},
   "outputs": [],
   "source": [
    "def process_inhval(*args):\n",
    "    for val in args: \n",
    "        if val == 'NA':\n",
    "            yield 0\n",
    "        else:\n",
    "            yield float(val)"
   ]
  },
  {
   "cell_type": "code",
   "execution_count": null,
   "metadata": {},
   "outputs": [],
   "source": [
    "readfilename = 'PI_DataSet_6_19_all.txt'\n",
    "r = open(readfilename)\n",
    "header = process_line(next(r))\n",
    "inh_start = header.index('FPV') \n",
    "inh_end = header.index('DRV')+1\n",
    "vec_start = header.index('count_vec_start')\n",
    "vec_end = len(header)\n",
    "vals = []\n",
    "for line in r:\n",
    "    if line!= '\\n':\n",
    "        line = process_line(line)\n",
    "        token = list(process_inhval(*line[inh_start:inh_end])) + [int(x) for x in line[vec_start:vec_end]]\n",
    "        vals.append(token)\n",
    "r.close()"
   ]
  },
  {
   "cell_type": "code",
   "execution_count": null,
   "metadata": {},
   "outputs": [],
   "source": [
    "vals = np.array(vals)"
   ]
  },
  {
   "cell_type": "code",
   "execution_count": null,
   "metadata": {},
   "outputs": [],
   "source": [
    "ind_inh = {v:i for i,v in enumerate(header[inh_start:inh_end])}"
   ]
  },
  {
   "cell_type": "code",
   "execution_count": null,
   "metadata": {},
   "outputs": [],
   "source": [
    "def filter_inhs(data, ind_dict, *args,classify=True):\n",
    "    vec_length = 210\n",
    "    names = sorted([(ind_dict[name],name) for i,name in enumerate(args)])\n",
    "    inds = list(map(lambda x:x[0], names))\n",
    "    names = list(map (lambda x:x[1], names))\n",
    "    tmp = np.hstack((data[:,inds],data[:,8:]))\n",
    "    df = pd.DataFrame(tmp, columns = ['c'+str(i) for i in range(len(tmp[0]))])\n",
    "    query_string = ' & '.join(['c'+str(i)+\">0\" for i in range(len(inds))])\n",
    "    df = df.query(query_string)\n",
    "    if classify: \n",
    "        for i,name in enumerate(names):\n",
    "            df[names[i]] = np.where(df['c'+str(i)] > 3.0 , '1', '0')\n",
    "        df['target'] = df[names].apply(lambda x:int(''.join(x),2),axis = 1)\n",
    "        return df.iloc[:,len(names):(-len(names)-1)].values,df['target'].values.reshape(-1,1)\n",
    "    else:\n",
    "        return df.iloc[:,len(names):].values, df.iloc[:,0:len(names)]"
   ]
  },
  {
   "cell_type": "code",
   "execution_count": null,
   "metadata": {
    "scrolled": true
   },
   "outputs": [],
   "source": [
    "X,y = filter_inhs(vals,ind_inh,'TPV', classify = False)"
   ]
  },
  {
   "cell_type": "code",
   "execution_count": null,
   "metadata": {},
   "outputs": [],
   "source": [
    "max_ = X.max()\n",
    "X = X/max_"
   ]
  },
  {
   "cell_type": "code",
   "execution_count": null,
   "metadata": {},
   "outputs": [],
   "source": [
    "X_train, X_test, y_train, y_test = train_test_split(X, y, test_size=0.33)"
   ]
  },
  {
   "cell_type": "code",
   "execution_count": null,
   "metadata": {},
   "outputs": [],
   "source": [
    "X_train.shape, y_train.shape"
   ]
  },
  {
   "cell_type": "raw",
   "metadata": {},
   "source": [
    "from sklearn.linear_model import Ridge\n",
    "from sklearn.model_selection import cross_val_score\n",
    "from sklearn import linear_model\n",
    "import time \n",
    "model = Ridge(alpha = 0)\n",
    "model.fit(X_train,y_train)\n",
    "print(model.score(X_test,y_test))"
   ]
  },
  {
   "cell_type": "code",
   "execution_count": null,
   "metadata": {},
   "outputs": [],
   "source": []
  },
  {
   "cell_type": "code",
   "execution_count": null,
   "metadata": {},
   "outputs": [],
   "source": []
  }
 ],
 "metadata": {
  "kernelspec": {
   "display_name": "Python 3",
   "language": "python",
   "name": "python3"
  },
  "language_info": {
   "codemirror_mode": {
    "name": "ipython",
    "version": 3
   },
   "file_extension": ".py",
   "mimetype": "text/x-python",
   "name": "python",
   "nbconvert_exporter": "python",
   "pygments_lexer": "ipython3",
   "version": "3.7.3"
  }
 },
 "nbformat": 4,
 "nbformat_minor": 2
}
