{
 "cells": [
  {
   "cell_type": "code",
   "execution_count": 4,
   "metadata": {},
   "outputs": [],
   "source": [
    "import numpy as np\n",
    "import matplotlib.pyplot as plt \n",
    "# import pyspark\n",
    "import torch\n",
    "plt.rcParams['figure.figsize'] = 10, 10\n",
    "from utilities import *\n",
    "import math\n",
    "from sklearn.model_selection import train_test_split\n",
    "import pandas as pd\n",
    "from itertools import combinations"
   ]
  },
  {
   "cell_type": "code",
   "execution_count": 7,
   "metadata": {},
   "outputs": [],
   "source": [
    "# Q1: What is the distribution of each of these \n",
    "def process_inhval(*args):\n",
    "    for val in args: \n",
    "        if val == 'NA':\n",
    "            yield 0\n",
    "        else:\n",
    "            yield float(val)"
   ]
  },
  {
   "cell_type": "code",
   "execution_count": 3,
   "metadata": {},
   "outputs": [],
   "source": [
    "readfilename = 'PI_DataSet_6_19_all.txt'\n",
    "r = open(readfilename)\n",
    "header = process_line(next(r))\n",
    "inh_start = header.index('FPV') \n",
    "inh_end = header.index('DRV')+1"
   ]
  },
  {
   "cell_type": "code",
   "execution_count": 8,
   "metadata": {},
   "outputs": [],
   "source": [
    "vals = []\n",
    "for line in r:\n",
    "    line = process_line(line)\n",
    "    token = list(process_inhval(*line[inh_start:inh_end]))\n",
    "    vals.append(token)\n",
    "r.close()"
   ]
  },
  {
   "cell_type": "code",
   "execution_count": 9,
   "metadata": {},
   "outputs": [],
   "source": [
    "df = pd.DataFrame(vals,columns = header[inh_start:inh_end])"
   ]
  },
  {
   "cell_type": "code",
   "execution_count": 15,
   "metadata": {},
   "outputs": [],
   "source": [
    "ind_name = {i:v for i,v in enumerate(list(df))}"
   ]
  },
  {
   "cell_type": "code",
   "execution_count": 18,
   "metadata": {},
   "outputs": [],
   "source": [
    "#df[[ind_name[0],ind_name[1]]]"
   ]
  },
  {
   "cell_type": "code",
   "execution_count": 52,
   "metadata": {},
   "outputs": [
    {
     "name": "stdout",
     "output_type": "stream",
     "text": [
      "['FPV', 'ATV', 0.617]\n",
      "['FPV', 'IDV', 0.8215]\n",
      "['FPV', 'LPV', 0.8694]\n",
      "['FPV', 'NFV', 0.7385]\n",
      "['FPV', 'SQV', 0.4485]\n",
      "['FPV', 'TPV', 0.4229]\n",
      "['FPV', 'DRV', 0.8092]\n",
      "['ATV', 'IDV', 0.6139]\n",
      "['ATV', 'LPV', 0.3535]\n",
      "['ATV', 'NFV', 0.8655]\n",
      "['ATV', 'SQV', 0.9175]\n",
      "['ATV', 'TPV', 0.3837]\n",
      "['ATV', 'DRV', 0.6444]\n",
      "['IDV', 'LPV', 0.8671]\n",
      "['IDV', 'NFV', 0.8189]\n",
      "['IDV', 'SQV', 0.4657]\n",
      "['IDV', 'TPV', 0.4373]\n",
      "['IDV', 'DRV', 0.4766]\n",
      "['LPV', 'NFV', 0.6433]\n",
      "['LPV', 'SQV', 0.1664]\n",
      "['LPV', 'TPV', 0.3573]\n",
      "['LPV', 'DRV', 0.3024]\n",
      "['NFV', 'SQV', 0.792]\n",
      "['NFV', 'TPV', 0.3708]\n",
      "['NFV', 'DRV', 0.527]\n",
      "['SQV', 'TPV', 0.1744]\n",
      "['SQV', 'DRV', 0.5174]\n",
      "['TPV', 'DRV', 0.353]\n"
     ]
    }
   ],
   "source": [
    "for i,j in list(combinations(range(len(ind_name)),2)):\n",
    "    tmp = df[[ind_name[i],ind_name[j]]]\n",
    "    tmp = tmp.query(ind_name[i]+'>0 & '+ind_name[j]+'>0').corr('pearson')\n",
    "    print(list(tmp) +[round(tmp.iat[0,1],4)])"
   ]
  },
  {
   "cell_type": "code",
   "execution_count": 49,
   "metadata": {},
   "outputs": [
    {
     "name": "stdout",
     "output_type": "stream",
     "text": [
      "['FPV', 'ATV', 0.617]\n"
     ]
    }
   ],
   "source": []
  },
  {
   "cell_type": "code",
   "execution_count": null,
   "metadata": {},
   "outputs": [],
   "source": []
  }
 ],
 "metadata": {
  "kernelspec": {
   "display_name": "Python 3",
   "language": "python",
   "name": "python3"
  },
  "language_info": {
   "codemirror_mode": {
    "name": "ipython",
    "version": 3
   },
   "file_extension": ".py",
   "mimetype": "text/x-python",
   "name": "python",
   "nbconvert_exporter": "python",
   "pygments_lexer": "ipython3",
   "version": "3.7.3"
  }
 },
 "nbformat": 4,
 "nbformat_minor": 2
}
