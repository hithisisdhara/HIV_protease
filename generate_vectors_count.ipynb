{
 "cells": [
  {
   "cell_type": "code",
   "execution_count": 1,
   "metadata": {},
   "outputs": [],
   "source": [
    "from scipy.spatial import Delaunay\n",
    "from itertools import combinations\n",
    "import numpy as np\n",
    "def delune():\n",
    "    # read data\n",
    "    data = [] \n",
    "    cnt = 0\n",
    "    f = open('3oxc.filtered.pdb')\n",
    "    for line in f:\n",
    "        cnt += 1\n",
    "        data.append(line.split())\n",
    "    assert cnt == 198\n",
    "    f.close()\n",
    "    \n",
    "    # get the positions and corresponding coordinates\n",
    "    # place = [int(d[5]) for d in data] # 1.. 99, 101.. 199] \n",
    "    x_y_z = [[float(x) for x in d[6:9]] for d in data]\n",
    "    x_y_z_place = {tuple(x_y_z[i]):i for i in range(len(x_y_z))}\n",
    "    \n",
    "    # triangulate \n",
    "    tri = Delaunay(x_y_z)\n",
    "    all_combs = list(combinations(range(4),2))\n",
    "    \n",
    "    # storage \n",
    "    place_neighbor_dist = {i:{} for i in range(0,198)}\n",
    "    \n",
    "    # get the distances \n",
    "    for n in np.array(x_y_z)[tri.simplices]:\n",
    "        for c in all_combs:\n",
    "            first, second = n[c[0]], n[c[1]]\n",
    "            dist = np.linalg.norm(first - second) # l2 norm\n",
    "            p1, p2 = x_y_z_place[tuple(first)], x_y_z_place[tuple(second)]\n",
    "\n",
    "            place_neighbor_dist[p1].update({p2:dist})\n",
    "            place_neighbor_dist[p2].update({p1:dist})\n",
    "    \n",
    "    return place_neighbor_dist"
   ]
  },
  {
   "cell_type": "code",
   "execution_count": 2,
   "metadata": {},
   "outputs": [],
   "source": [
    "place_neighbor_dist = delune()"
   ]
  },
  {
   "cell_type": "code",
   "execution_count": 3,
   "metadata": {},
   "outputs": [],
   "source": [
    "amino_acids = ['A', 'C', 'D', 'E', 'F', 'G', 'H', 'I', 'K', 'L', 'M', 'N', 'P', 'Q', 'R', 'S', 'T', 'V', 'W', 'Y']\n",
    "aa_ind = {p:i for i,p in enumerate(amino_acids)}\n",
    "vec_ind = {v:k for k,v in enumerate([(amino_acids[i], amino_acids[j]) for i in range(len(amino_acids)) for j in range(i,len(amino_acids))])}"
   ]
  },
  {
   "cell_type": "code",
   "execution_count": 4,
   "metadata": {},
   "outputs": [],
   "source": [
    "def get_count_vector(line):\n",
    "    # vec_sum = np.zeros(210)\n",
    "    vec_tot = np.zeros(210)\n",
    "    for i,aa in enumerate(line):\n",
    "        p1 = aa_ind[aa]\n",
    "        n_d = place_neighbor_dist[i]\n",
    "        for n in n_d.keys():\n",
    "            naa = line[n]\n",
    "            p2 = aa_ind[naa]\n",
    "            pair = (aa, naa) if aa < naa else (naa, aa)\n",
    "            pair_ind = vec_ind[pair]\n",
    "            # vec_sum[pair_ind] += d\n",
    "            vec_tot[pair_ind] += 1\n",
    "    # vec_tot = map(lambda x:1 if x == 0 else x,vec_tot)\n",
    "    return vec_tot"
   ]
  },
  {
   "cell_type": "code",
   "execution_count": 5,
   "metadata": {},
   "outputs": [
    {
     "name": "stdout",
     "output_type": "stream",
     "text": [
      "10000 15.5363609791\n",
      "20000 14.9741559029\n",
      "30000 15.3169879913\n",
      "40000 14.5395390987\n",
      "50000 14.5337688923\n",
      "60000 14.5764241219\n",
      "70000 14.6211659908\n",
      "80000 14.7469580173\n",
      "90000 14.608946085\n",
      "100000 14.4563779831\n",
      "110000 14.4653749466\n",
      "120000 14.6250038147\n",
      "130000 14.4934790134\n",
      "140000 14.452930212\n",
      "150000 14.4259779453\n",
      "160000 14.5132460594\n",
      "170000 14.9891531467\n",
      "180000 14.4625229836\n",
      "190000 14.4660639763\n",
      "200000 15.1300601959\n",
      "210000 14.6891539097\n",
      "220000 14.7227830887\n",
      "230000 20.6731390953\n",
      "240000 14.8462629318\n",
      "250000 14.4580509663\n",
      "260000 14.4421069622\n",
      "270000 14.4446251392\n",
      "280000 14.5744390488\n",
      "290000 14.436617136\n",
      "300000 14.5755329132\n",
      "310000 14.7687618732\n",
      "320000 14.4507679939\n",
      "330000 14.7399189472\n",
      "340000 15.3586318493\n",
      "350000 14.6817450523\n",
      "360000 14.5681519508\n",
      "370000 14.6086750031\n",
      "380000 14.3009150028\n",
      "390000 14.4223351479\n",
      "400000 15.020637989\n",
      "410000 14.321144104\n",
      "414009\n"
     ]
    }
   ],
   "source": [
    "from collections import defaultdict\n",
    "import time \n",
    "filetowrite = 'PI_DataSet_6_19_PI_count_vec_210.txt'\n",
    "g = open(filetowrite,'w')\n",
    "f = open(\"PI_DataSet_6_19_expanded.txt\")\n",
    "for line in f:\n",
    "    header = line.split(\"\\t\")\n",
    "    vec_start = header.index(\"P1\")\n",
    "    break\n",
    "count = 0\n",
    "t0 = time.time()\n",
    "for line in f:\n",
    "    line = line.strip().split(\"\\t\")\n",
    "    l = line[:vec_start]\n",
    "    v =   line[vec_start:]\n",
    "    vec = get_count_vector(2*v)\n",
    "    vec = map(lambda x:str(int(x)),vec)\n",
    "    token = \"\\t\".join(l+vec)+\"\\n\"\n",
    "    g.write(token)\n",
    "    count += 1\n",
    "    if count % 10000 == 0:\n",
    "        print count, time.time() - t0\n",
    "        t0 = time.time()\n",
    "print(count)"
   ]
  },
  {
   "cell_type": "code",
   "execution_count": null,
   "metadata": {},
   "outputs": [],
   "source": []
  }
 ],
 "metadata": {
  "kernelspec": {
   "display_name": "Python 2",
   "language": "python",
   "name": "python2"
  },
  "language_info": {
   "codemirror_mode": {
    "name": "ipython",
    "version": 2
   },
   "file_extension": ".py",
   "mimetype": "text/x-python",
   "name": "python",
   "nbconvert_exporter": "python",
   "pygments_lexer": "ipython2",
   "version": "2.7.16"
  }
 },
 "nbformat": 4,
 "nbformat_minor": 2
}
