{
 "cells": [
  {
   "cell_type": "code",
   "execution_count": 1,
   "metadata": {},
   "outputs": [],
   "source": [
    "#!/usr/bin/env python\n",
    "# coding: utf-8\n",
    "from __future__ import print_function\n",
    "from collections import defaultdict\n",
    "import pandas as pd\n",
    "import time\n",
    "import numpy as np\n",
    "import pyspark\n",
    "from utilities import *\n",
    "from scipy.stats import pearsonr"
   ]
  },
  {
   "cell_type": "code",
   "execution_count": null,
   "metadata": {},
   "outputs": [],
   "source": [
    "sc = pyspark.SparkContext()"
   ]
  },
  {
   "cell_type": "code",
   "execution_count": null,
   "metadata": {},
   "outputs": [],
   "source": [
    "inh = 'ATV'\n",
    "#vec_string = 'dist_vec'\n",
    "vec_string = 'count_vec'"
   ]
  },
  {
   "cell_type": "code",
   "execution_count": null,
   "metadata": {},
   "outputs": [],
   "source": [
    "sparkfilename = get_sparkfilename(inh,vec_string)"
   ]
  },
  {
   "cell_type": "code",
   "execution_count": null,
   "metadata": {},
   "outputs": [],
   "source": [
    "header = 'path_id,inh_type,vec_type,root_mutation,path_length,path_type,fraction_above_inh_threshold,path_variance'.split(\",\")\n",
    "header = header[3:]"
   ]
  },
  {
   "cell_type": "code",
   "execution_count": null,
   "metadata": {},
   "outputs": [],
   "source": [
    "print(header)"
   ]
  },
  {
   "cell_type": "code",
   "execution_count": null,
   "metadata": {},
   "outputs": [],
   "source": [
    "c = {n:i for i,n in enumerate(header)}"
   ]
  },
  {
   "cell_type": "code",
   "execution_count": null,
   "metadata": {},
   "outputs": [],
   "source": [
    "data = sc.textFile(sparkfilename).map(lambda x:x.split(\",\")[3:])\n",
    "print(data.count())"
   ]
  },
  {
   "cell_type": "code",
   "execution_count": null,
   "metadata": {},
   "outputs": [],
   "source": [
    "corr = lambda x:pearsonr(x[0],x[1])"
   ]
  },
  {
   "cell_type": "code",
   "execution_count": null,
   "metadata": {},
   "outputs": [],
   "source": [
    "type_frac_var = data.map(lambda x:(x[c['path_type']], x[c['fraction_above_inh_threshold']], x[c['path_variance']]))"
   ]
  },
  {
   "cell_type": "code",
   "execution_count": null,
   "metadata": {},
   "outputs": [],
   "source": [
    "type_listfrac_listvar = type_frac_var.map(lambda x:(x[0],(float(x[1]),float(x[2])))).groupByKey().map(lambda x:(x[0],separate(list(x[1]))))"
   ]
  },
  {
   "cell_type": "code",
   "execution_count": null,
   "metadata": {},
   "outputs": [],
   "source": [
    "#type_listfrac_listvar.take(1)"
   ]
  },
  {
   "cell_type": "code",
   "execution_count": null,
   "metadata": {},
   "outputs": [],
   "source": [
    "viz_scatter = type_listfrac_listvar.collectAsMap()"
   ]
  },
  {
   "cell_type": "code",
   "execution_count": null,
   "metadata": {},
   "outputs": [],
   "source": [
    "viz_scatter.keys()"
   ]
  },
  {
   "cell_type": "code",
   "execution_count": null,
   "metadata": {},
   "outputs": [],
   "source": [
    "def draw_scatter(x,y,ptsize):\n",
    "    plt.scatter(x,y,s=ptsize, color = 'k')"
   ]
  },
  {
   "cell_type": "code",
   "execution_count": null,
   "metadata": {},
   "outputs": [],
   "source": [
    "import matplotlib.pyplot as plt\n",
    "plt.rcParams['figure.figsize'] = 10, 10\n",
    "keys = ['gains','looses','spikes']"
   ]
  },
  {
   "cell_type": "code",
   "execution_count": null,
   "metadata": {},
   "outputs": [],
   "source": [
    "plt.rcParams['figure.figsize'] = 10, 10"
   ]
  },
  {
   "cell_type": "code",
   "execution_count": null,
   "metadata": {},
   "outputs": [],
   "source": [
    "max_var"
   ]
  },
  {
   "cell_type": "code",
   "execution_count": null,
   "metadata": {},
   "outputs": [],
   "source": [
    "spikes_frac,spikes_var = viz_scatter[keys[-1]]\n",
    "max_spikes_var = max(spikes_var)\n",
    "try:\n",
    "    gains_frac, gains_var = viz_scatter[keys[0]]\n",
    "    max_gains_var = max(gains_var)\n",
    "except:\n",
    "    max_gains_var = 0 \n",
    "    gains_frac, gains_var = [],[]\n",
    "try:\n",
    "    looses_frac, looses_var = viz_scatter[keys[1]]\n",
    "    max_looses_var = max(looses_var)\n",
    "except: \n",
    "    max_looses_var = 0\n",
    "    looses_frac, looses_var = [],[]\n",
    "max_var = max(max_gains_var,max_looses_var, max_spikes_var)\n",
    "plt.ylim([0,max_var])"
   ]
  },
  {
   "cell_type": "code",
   "execution_count": null,
   "metadata": {},
   "outputs": [],
   "source": [
    "draw_scatter(spikes_frac,spikes_var,1)\n",
    "plt.ylim([0,max_var])\n",
    "plt.xlabel(\"Fraction above threshold\",fontsize=15)\n",
    "plt.ylabel(\"Variance\",fontsize=15)\n",
    "plt.title(inh+\" \"+vec_string+\" \"+keys[-1],fontsize=20)\n",
    "plt.show()"
   ]
  },
  {
   "cell_type": "code",
   "execution_count": null,
   "metadata": {},
   "outputs": [],
   "source": [
    "print(get_figfile(inh,vec_string,keys[-1]).split(\"/\")[-1])"
   ]
  },
  {
   "cell_type": "code",
   "execution_count": null,
   "metadata": {},
   "outputs": [],
   "source": [
    "draw_scatter(gains_frac,gains_var,1)\n",
    "plt.ylim([0,max_var])\n",
    "plt.xlabel(\"Fraction above threshold\",fontsize=15)\n",
    "plt.ylabel(\"Variance\",fontsize=15)\n",
    "plt.title(inh+\" \"+vec_string+\" \"+keys[0],fontsize=20)"
   ]
  },
  {
   "cell_type": "code",
   "execution_count": null,
   "metadata": {},
   "outputs": [],
   "source": [
    "print(get_figfile(inh,vec_string,keys[0]).split(\"/\")[-1])"
   ]
  },
  {
   "cell_type": "code",
   "execution_count": null,
   "metadata": {},
   "outputs": [],
   "source": [
    "draw_scatter(looses_frac,looses_var,1)\n",
    "plt.ylim([0,max_var])\n",
    "plt.xlabel(\"Fraction above threshold\",fontsize=15)\n",
    "plt.ylabel(\"Variance\",fontsize=15)\n",
    "plt.title(inh+\" \"+vec_string+\" \"+keys[1],fontsize=20)"
   ]
  },
  {
   "cell_type": "code",
   "execution_count": null,
   "metadata": {
    "scrolled": true
   },
   "outputs": [],
   "source": [
    "print(get_figfile(inh,vec_string,keys[1]).split(\"/\")[-1])"
   ]
  },
  {
   "cell_type": "code",
   "execution_count": null,
   "metadata": {},
   "outputs": [],
   "source": []
  }
 ],
 "metadata": {
  "kernelspec": {
   "display_name": "Python 3",
   "language": "python",
   "name": "python3"
  },
  "language_info": {
   "codemirror_mode": {
    "name": "ipython",
    "version": 3
   },
   "file_extension": ".py",
   "mimetype": "text/x-python",
   "name": "python",
   "nbconvert_exporter": "python",
   "pygments_lexer": "ipython3",
   "version": "3.7.3"
  }
 },
 "nbformat": 4,
 "nbformat_minor": 2
}
