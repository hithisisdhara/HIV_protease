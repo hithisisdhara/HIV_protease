{
 "cells": [
  {
   "cell_type": "code",
   "execution_count": 1,
   "metadata": {},
   "outputs": [],
   "source": [
    "from scipy.spatial import Delaunay\n",
    "from itertools import combinations\n",
    "import numpy as np\n",
    "def delune():\n",
    "    # read data\n",
    "    data = [] \n",
    "    cnt = 0\n",
    "    f = open('3oxc.filtered.pdb')\n",
    "    for line in f:\n",
    "        cnt += 1\n",
    "        data.append(line.split())\n",
    "    assert cnt == 198\n",
    "    f.close()\n",
    "    \n",
    "    # get the positions and corresponding coordinates\n",
    "    # place = [int(d[5]) for d in data] # 1.. 99, 101.. 199] \n",
    "    x_y_z = [[float(x) for x in d[6:9]] for d in data]\n",
    "    x_y_z_place = {tuple(x_y_z[i]):i for i in range(len(x_y_z))}\n",
    "    \n",
    "    # triangulate \n",
    "    tri = Delaunay(x_y_z)\n",
    "    all_combs = list(combinations(range(4),2))\n",
    "    \n",
    "    # storage \n",
    "    place_neighbor_dist = {i:{} for i in range(0,198)}\n",
    "    \n",
    "    # get the distances \n",
    "    for n in np.array(x_y_z)[tri.simplices]:\n",
    "        for c in all_combs:\n",
    "            first, second = n[c[0]], n[c[1]]\n",
    "            dist = np.linalg.norm(first - second) # l2 norm\n",
    "            p1, p2 = x_y_z_place[tuple(first)], x_y_z_place[tuple(second)]\n",
    "\n",
    "            place_neighbor_dist[p1].update({p2:dist})\n",
    "            place_neighbor_dist[p2].update({p1:dist})\n",
    "    \n",
    "    return place_neighbor_dist"
   ]
  },
  {
   "cell_type": "code",
   "execution_count": 2,
   "metadata": {},
   "outputs": [],
   "source": [
    "place_neighbor_dist = delune()"
   ]
  },
  {
   "cell_type": "code",
   "execution_count": 3,
   "metadata": {},
   "outputs": [],
   "source": [
    "amino_acids = ['A', 'C', 'D', 'E', 'F', 'G', 'H', 'I', 'K', 'L', 'M', 'N', 'P', 'Q', 'R', 'S', 'T', 'V', 'W', 'Y']\n",
    "aa_ind = {p:i for i,p in enumerate(amino_acids)}\n",
    "vec_ind = {v:k for k,v in enumerate([(amino_acids[i], amino_acids[j]) for i in range(len(amino_acids)) for j in range(i,len(amino_acids))])}"
   ]
  },
  {
   "cell_type": "code",
   "execution_count": 4,
   "metadata": {},
   "outputs": [],
   "source": [
    "def get_vector(line):\n",
    "    vec_sum = np.zeros(210)\n",
    "    vec_tot = np.zeros(210)\n",
    "    for i,aa in enumerate(line):\n",
    "        p1 = aa_ind[aa]\n",
    "        n_d = place_neighbor_dist[i]\n",
    "        for n,d in n_d.items():\n",
    "            naa = line[n]\n",
    "            p2 = aa_ind[naa]\n",
    "            pair = (aa, naa) if aa < naa else (naa, aa)\n",
    "            pair_ind = vec_ind[pair]\n",
    "            vec_sum[pair_ind] += d\n",
    "            vec_tot[pair_ind] += 1\n",
    "    vec_tot = map(lambda x:1 if x == 0 else x,vec_tot)\n",
    "    return vec_sum/vec_tot"
   ]
  },
  {
   "cell_type": "code",
   "execution_count": 6,
   "metadata": {},
   "outputs": [
    {
     "name": "stdout",
     "output_type": "stream",
     "text": [
      "10000 23.0414340496\n",
      "20000 22.0587670803\n",
      "30000 22.0212550163\n",
      "40000 22.8803281784\n",
      "50000 23.1843428612\n",
      "60000 23.0212371349\n",
      "70000 21.9156498909\n",
      "80000 22.7735869884\n",
      "90000 21.9916410446\n",
      "100000 21.7946491241\n",
      "110000 22.8187689781\n",
      "120000 22.9277729988\n",
      "130000 22.3492059708\n",
      "140000 22.9786520004\n",
      "150000 22.5455210209\n",
      "160000 23.3900208473\n",
      "170000 22.8075900078\n",
      "180000 22.3402950764\n",
      "190000 22.9610199928\n",
      "200000 22.7608480453\n",
      "210000 22.5171790123\n",
      "220000 22.1702740192\n",
      "230000 22.0521349907\n",
      "240000 22.012804985\n",
      "250000 22.07279706\n",
      "260000 22.1068749428\n",
      "270000 22.1800839901\n",
      "280000 22.0646219254\n",
      "290000 23.1454520226\n",
      "300000 23.0171051025\n",
      "310000 22.0555670261\n",
      "320000 22.4320130348\n",
      "330000 22.2875871658\n",
      "340000 28.0314459801\n",
      "350000 22.2498009205\n",
      "360000 22.0087640285\n",
      "370000 22.0577888489\n",
      "380000 22.0570859909\n",
      "390000 22.2293179035\n",
      "400000 22.0563168526\n",
      "410000 22.3024859428\n",
      "414009\n"
     ]
    }
   ],
   "source": [
    "from collections import defaultdict\n",
    "import time \n",
    "filetowrite = 'PI_DataSet_6_19_PI_avg_dist_vec_210.txt'\n",
    "g = open(filetowrite,'w')\n",
    "f = open(\"PI_DataSet_6_19_expanded.txt\")\n",
    "for line in f:\n",
    "    header = line.split(\"\\t\")\n",
    "    vec_start = header.index(\"P1\")\n",
    "    break\n",
    "count = 0\n",
    "t0 = time.time()\n",
    "for line in f:\n",
    "    line = line.strip().split(\"\\t\")\n",
    "    l = line[:vec_start]\n",
    "    v =   line[vec_start:]\n",
    "    vec = get_vector(2*v)\n",
    "    vec = map(lambda x:'{0:.5f}'.format(x),vec)\n",
    "    token = \"\\t\".join(l+vec)+\"\\n\"\n",
    "    g.write(token)\n",
    "    count += 1\n",
    "    if count % 10000 == 0:\n",
    "        print count, time.time() - t0\n",
    "        t0 = time.time()\n",
    "print(count)"
   ]
  }
 ],
 "metadata": {
  "kernelspec": {
   "display_name": "Python 2",
   "language": "python",
   "name": "python2"
  },
  "language_info": {
   "codemirror_mode": {
    "name": "ipython",
    "version": 2
   },
   "file_extension": ".py",
   "mimetype": "text/x-python",
   "name": "python",
   "nbconvert_exporter": "python",
   "pygments_lexer": "ipython2",
   "version": "2.7.16"
  }
 },
 "nbformat": 4,
 "nbformat_minor": 2
}
