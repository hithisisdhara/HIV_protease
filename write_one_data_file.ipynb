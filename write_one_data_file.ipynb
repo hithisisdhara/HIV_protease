{
 "cells": [
  {
   "cell_type": "code",
   "execution_count": 1,
   "metadata": {},
   "outputs": [],
   "source": [
    "distvecfile = 'PI_DataSet_6_19_PI_avg_dist_vec_210.txt'\n",
    "expandedfile= 'PI_DataSet_6_19_expanded.txt'\n",
    "countvecfile = 'PI_DataSet_6_19_PI_count_vec_210.txt'"
   ]
  },
  {
   "cell_type": "code",
   "execution_count": 2,
   "metadata": {},
   "outputs": [],
   "source": [
    "e = open(expandedfile)\n",
    "d = open(distvecfile)\n",
    "c = open(countvecfile)\n",
    "for line in e:\n",
    "    header = line.strip().split('\\t')\n",
    "    vec_start = header.index('P1')\n",
    "    break"
   ]
  },
  {
   "cell_type": "code",
   "execution_count": 3,
   "metadata": {},
   "outputs": [
    {
     "data": {
      "text/plain": [
       "'\\nprint [count_lines(x) for x in [e,c,d]]\\n'"
      ]
     },
     "execution_count": 3,
     "metadata": {},
     "output_type": "execute_result"
    }
   ],
   "source": [
    "def count_lines(o):\n",
    "    c = 0\n",
    "    for line in o:\n",
    "        c += 1\n",
    "    return c\n",
    "'''\n",
    "print [count_lines(x) for x in [e,c,d]]\n",
    "'''"
   ]
  },
  {
   "cell_type": "code",
   "execution_count": 4,
   "metadata": {},
   "outputs": [],
   "source": [
    "total_lines = count_lines(d)\n",
    "d = open(distvecfile)"
   ]
  },
  {
   "cell_type": "code",
   "execution_count": 5,
   "metadata": {},
   "outputs": [],
   "source": [
    "dvh = ['dist_vec_start']+['.' for _ in range(209)]\n",
    "cvh = ['count_vec_start']+['.' for _ in range(209)]"
   ]
  },
  {
   "cell_type": "code",
   "execution_count": 6,
   "metadata": {},
   "outputs": [],
   "source": [
    "def join_as_one_line(*args):\n",
    "    l = reduce(lambda x,y:x+y,args)\n",
    "    assert len(l)==headerlength\n",
    "    return '\\t'.join(l)+\"\\n\""
   ]
  },
  {
   "cell_type": "code",
   "execution_count": 7,
   "metadata": {},
   "outputs": [],
   "source": [
    "headerlength = len(header + dvh + cvh)+1"
   ]
  },
  {
   "cell_type": "code",
   "execution_count": 8,
   "metadata": {},
   "outputs": [],
   "source": [
    "new_header = join_as_one_line(['inds'],header , dvh , cvh)"
   ]
  },
  {
   "cell_type": "code",
   "execution_count": 9,
   "metadata": {},
   "outputs": [],
   "source": [
    "def split_fluff_and_vec(l):\n",
    "    l = l.strip().split('\\t')\n",
    "    fluff = l[:vec_start]\n",
    "    vec = l[vec_start:]\n",
    "    return fluff, vec"
   ]
  },
  {
   "cell_type": "code",
   "execution_count": 10,
   "metadata": {},
   "outputs": [],
   "source": [
    "path = '/home/dshah8/Documents/Summer19/Harrison/'\n",
    "wf = open(path+'PI_DataSet_6_19_all.txt','w') \n",
    "wf.write(new_header)"
   ]
  },
  {
   "cell_type": "code",
   "execution_count": 11,
   "metadata": {},
   "outputs": [
    {
     "name": "stdout",
     "output_type": "stream",
     "text": [
      "0\n",
      "100000\n",
      "200000\n",
      "300000\n",
      "400000\n"
     ]
    }
   ],
   "source": [
    "count = -1\n",
    "while count < total_lines-1:\n",
    "    count += 1\n",
    "    line_e = next(e)\n",
    "    fluff_e, vec_e = split_fluff_and_vec(line_e)\n",
    "    assert len(vec_e)==99\n",
    "    line_d = next(d)\n",
    "    fluff_d, vec_d = split_fluff_and_vec(line_d)\n",
    "    assert fluff_e == fluff_d and len(vec_d)==210\n",
    "    line_c = next(c)\n",
    "    fluff_c, vec_c = split_fluff_and_vec(line_c)\n",
    "    assert fluff_d == fluff_c and len(vec_c)==210\n",
    "    token = join_as_one_line([str(count)], fluff_e, vec_e, vec_d, vec_c)\n",
    "    wf.write(token)\n",
    "    if count % 100000 == 0:\n",
    "        print count\n",
    "wf.close()"
   ]
  },
  {
   "cell_type": "code",
   "execution_count": 12,
   "metadata": {},
   "outputs": [],
   "source": [
    "assert count+1 == total_lines"
   ]
  },
  {
   "cell_type": "code",
   "execution_count": 13,
   "metadata": {},
   "outputs": [],
   "source": [
    "def varify_lines(o):\n",
    "    c = 0\n",
    "    for line in o:\n",
    "            assert len(line.split(\"\\t\"))==529\n",
    "            c+=1\n",
    "    return c"
   ]
  },
  {
   "cell_type": "code",
   "execution_count": 15,
   "metadata": {},
   "outputs": [
    {
     "name": "stdout",
     "output_type": "stream",
     "text": [
      "414009\n"
     ]
    }
   ],
   "source": [
    "    written_lines = 0\n",
    "    new_writename = path+'PI_DataSet_6_19_all.txt'\n",
    "    f = open(new_writename)\n",
    "    num_lines = varify_lines(f) - 1\n",
    "    written_lines += num_lines # remove header\n",
    "    # print num_lines\n",
    "    f.close()\n",
    "    print written_lines"
   ]
  },
  {
   "cell_type": "code",
   "execution_count": 16,
   "metadata": {},
   "outputs": [],
   "source": [
    "assert written_lines == total_lines"
   ]
  },
  {
   "cell_type": "code",
   "execution_count": 17,
   "metadata": {},
   "outputs": [
    {
     "name": "stdout",
     "output_type": "stream",
     "text": [
      "inds\tSeqID\tFPV\tATV\tIDV\tLPV\tNFV\tSQV\tTPV\tDRV\tP1\tP2\tP3\tP4\tP5\tP6\tP7\tP8\tP9\tP10\tP11\tP12\tP13\tP14\tP15\tP16\tP17\tP18\tP19\tP20\tP21\tP22\tP23\tP24\tP25\tP26\tP27\tP28\tP29\tP30\tP31\tP32\tP33\tP34\tP35\tP36\tP37\tP38\tP39\tP40\tP41\tP42\tP43\tP44\tP45\tP46\tP47\tP48\tP49\tP50\tP51\tP52\tP53\tP54\tP55\tP56\tP57\tP58\tP59\tP60\tP61\tP62\tP63\tP64\tP65\tP66\tP67\tP68\tP69\tP70\tP71\tP72\tP73\tP74\tP75\tP76\tP77\tP78\tP79\tP80\tP81\tP82\tP83\tP84\tP85\tP86\tP87\tP88\tP89\tP90\tP91\tP92\tP93\tP94\tP95\tP96\tP97\tP98\tP99\tdist_vec_start\t.\t.\t.\t.\t.\t.\t.\t.\t.\t.\t.\t.\t.\t.\t.\t.\t.\t.\t.\t.\t.\t.\t.\t.\t.\t.\t.\t.\t.\t.\t.\t.\t.\t.\t.\t.\t.\t.\t.\t.\t.\t.\t.\t.\t.\t.\t.\t.\t.\t.\t.\t.\t.\t.\t.\t.\t.\t.\t.\t.\t.\t.\t.\t.\t.\t.\t.\t.\t.\t.\t.\t.\t.\t.\t.\t.\t.\t.\t.\t.\t.\t.\t.\t.\t.\t.\t.\t.\t.\t.\t.\t.\t.\t.\t.\t.\t.\t.\t.\t.\t.\t.\t.\t.\t.\t.\t.\t.\t.\t.\t.\t.\t.\t.\t.\t.\t.\t.\t.\t.\t.\t.\t.\t.\t.\t.\t.\t.\t.\t.\t.\t.\t.\t.\t.\t.\t.\t.\t.\t.\t.\t.\t.\t.\t.\t.\t.\t.\t.\t.\t.\t.\t.\t.\t.\t.\t.\t.\t.\t.\t.\t.\t.\t.\t.\t.\t.\t.\t.\t.\t.\t.\t.\t.\t.\t.\t.\t.\t.\t.\t.\t.\t.\t.\t.\t.\t.\t.\t.\t.\t.\t.\t.\t.\t.\t.\t.\t.\t.\t.\t.\t.\t.\t.\t.\t.\t.\t.\t.\tcount_vec_start\t.\t.\t.\t.\t.\t.\t.\t.\t.\t.\t.\t.\t.\t.\t.\t.\t.\t.\t.\t.\t.\t.\t.\t.\t.\t.\t.\t.\t.\t.\t.\t.\t.\t.\t.\t.\t.\t.\t.\t.\t.\t.\t.\t.\t.\t.\t.\t.\t.\t.\t.\t.\t.\t.\t.\t.\t.\t.\t.\t.\t.\t.\t.\t.\t.\t.\t.\t.\t.\t.\t.\t.\t.\t.\t.\t.\t.\t.\t.\t.\t.\t.\t.\t.\t.\t.\t.\t.\t.\t.\t.\t.\t.\t.\t.\t.\t.\t.\t.\t.\t.\t.\t.\t.\t.\t.\t.\t.\t.\t.\t.\t.\t.\t.\t.\t.\t.\t.\t.\t.\t.\t.\t.\t.\t.\t.\t.\t.\t.\t.\t.\t.\t.\t.\t.\t.\t.\t.\t.\t.\t.\t.\t.\t.\t.\t.\t.\t.\t.\t.\t.\t.\t.\t.\t.\t.\t.\t.\t.\t.\t.\t.\t.\t.\t.\t.\t.\t.\t.\t.\t.\t.\t.\t.\t.\t.\t.\t.\t.\t.\t.\t.\t.\t.\t.\t.\t.\t.\t.\t.\t.\t.\t.\t.\t.\t.\t.\t.\t.\t.\t.\t.\t.\t.\t.\t.\t.\t.\t.\n",
      "\n",
      "0\t12861\t0.4\tNA\t0.5\tNA\t7.1\t0.5\tNA\tNA\tP\tQ\tI\tT\tL\tW\tQ\tR\tP\tL\tV\tT\tI\tK\tI\tG\tG\tQ\tL\tK\tE\tA\tL\tL\tD\tT\tG\tA\tD\tN\tT\tV\tL\tE\tE\tM\tN\tL\tP\tG\tR\tW\tK\tP\tK\tM\tI\tG\tG\tI\tG\tG\tF\tI\tK\tV\tG\tQ\tY\tD\tQ\tI\tL\tI\tE\tI\tC\tG\tH\tK\tA\tI\tG\tT\tV\tL\tV\tG\tP\tT\tP\tV\tN\tI\tI\tG\tR\tD\tL\tL\tT\tQ\tI\tG\tC\tT\tL\tN\tF\t9.88269\t0.00000\t4.74600\t5.00465\t0.00000\t7.72416\t6.79403\t7.11741\t5.22167\t6.13083\t0.00000\t5.08852\t0.00000\t5.98608\t6.27338\t0.00000\t6.45768\t8.35669\t0.00000\t0.00000\t0.00000\t0.00000\t6.57335\t7.28399\t3.82986\t5.72491\t8.03859\t0.00000\t7.88630\t0.00000\t5.49460\t9.56564\t0.00000\t0.00000\t0.00000\t6.36926\t5.91493\t0.00000\t0.00000\t7.86029\t0.00000\t0.00000\t6.91671\t0.00000\t6.96515\t12.52710\t5.56960\t0.00000\t4.91736\t14.23127\t9.45623\t6.23932\t0.00000\t6.50420\t12.81319\t11.16842\t3.83772\t6.08637\t0.00000\t7.09389\t5.41224\t4.81048\t9.31781\t6.22620\t11.94446\t6.68873\t10.65542\t14.19281\t11.36796\t0.00000\t5.09961\t6.58983\t0.00000\t0.00000\t0.00000\t5.06611\t9.47370\t7.18714\t10.27143\t9.14000\t6.50866\t3.86102\t11.59034\t10.19165\t0.00000\t0.00000\t6.69360\t0.00000\t0.00000\t0.00000\t6.73459\t6.65799\t6.51667\t9.22460\t7.52302\t8.77806\t9.27281\t8.97430\t7.45482\t6.76571\t0.00000\t6.35600\t7.36371\t9.34394\t6.98926\t0.00000\t5.64078\t3.86540\t0.00000\t0.00000\t0.00000\t11.23454\t0.00000\t0.00000\t0.00000\t0.00000\t0.00000\t0.00000\t0.00000\t7.10490\t5.89599\t7.35578\t6.47881\t6.56735\t8.61695\t7.28581\t0.00000\t0.00000\t6.54638\t8.10704\t0.00000\t6.80878\t11.46336\t13.30466\t10.21696\t12.39161\t9.36118\t12.13136\t7.26215\t0.00000\t8.72405\t6.61008\t14.17044\t7.02881\t6.65403\t7.98778\t5.43176\t10.72188\t7.37141\t6.14200\t0.00000\t6.56181\t6.54533\t6.70381\t7.47275\t28.87231\t3.82420\t16.71294\t15.42549\t0.00000\t0.00000\t0.00000\t6.61634\t0.00000\t0.00000\t7.29310\t10.91584\t8.83542\t8.96426\t0.00000\t6.11792\t6.61799\t11.57363\t0.00000\t14.53867\t11.26150\t9.22362\t0.00000\t7.76729\t7.09886\t10.87880\t9.23984\t12.91957\t7.46881\t0.00000\t8.68920\t8.55909\t10.02172\t3.85028\t8.21587\t0.00000\t6.61932\t11.21053\t5.49461\t6.61813\t0.00000\t0.00000\t0.00000\t0.00000\t0.00000\t7.04095\t5.25734\t8.06601\t5.73153\t6.49213\t0.00000\t6.60636\t0.00000\t4.84991\t0.00000\t2\t0\t8\t8\t0\t26\t4\t42\t8\t24\t0\t8\t0\t4\t4\t0\t12\t16\t0\t0\t0\t0\t2\t8\t8\t4\t24\t0\t20\t0\t4\t4\t0\t0\t0\t20\t4\t0\t0\t8\t0\t0\t44\t0\t16\t14\t20\t0\t8\t4\t24\t16\t0\t28\t4\t14\t4\t6\t0\t20\t4\t16\t26\t20\t12\t12\t24\t4\t4\t0\t8\t20\t0\t0\t0\t18\t4\t22\t6\t10\t4\t4\t16\t6\t0\t0\t4\t0\t0\t0\t60\t8\t112\t46\t72\t12\t24\t58\t34\t18\t0\t42\t40\t16\t8\t0\t8\t4\t0\t0\t0\t4\t0\t0\t0\t0\t0\t0\t0\t74\t48\t122\t12\t16\t24\t32\t0\t0\t50\t56\t0\t4\t16\t28\t14\t14\t24\t40\t4\t0\t14\t12\t8\t4\t42\t10\t24\t38\t36\t26\t0\t88\t60\t8\t8\t2\t4\t18\t8\t0\t0\t0\t8\t0\t0\t2\t18\t16\t8\t0\t20\t20\t4\t0\t8\t26\t14\t0\t24\t16\t10\t2\t6\t12\t0\t32\t18\t20\t4\t4\t0\t12\t4\t8\t4\t0\t0\t0\t0\t0\t18\t26\t10\t4\t20\t0\t8\t0\t4\t0\n",
      "\n"
     ]
    }
   ],
   "source": []
  },
  {
   "cell_type": "code",
   "execution_count": null,
   "metadata": {},
   "outputs": [],
   "source": []
  }
 ],
 "metadata": {
  "kernelspec": {
   "display_name": "Python 2",
   "language": "python",
   "name": "python2"
  },
  "language_info": {
   "codemirror_mode": {
    "name": "ipython",
    "version": 2
   },
   "file_extension": ".py",
   "mimetype": "text/x-python",
   "name": "python",
   "nbconvert_exporter": "python",
   "pygments_lexer": "ipython2",
   "version": "2.7.16"
  }
 },
 "nbformat": 4,
 "nbformat_minor": 2
}
